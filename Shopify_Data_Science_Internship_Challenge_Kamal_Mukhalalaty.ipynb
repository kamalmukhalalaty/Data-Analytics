{
  "nbformat": 4,
  "nbformat_minor": 0,
  "metadata": {
    "colab": {
      "name": "Shopify_Data_Science_Internship_Challenge_Kamal_Mukhalalaty.ipynb",
      "provenance": [],
      "collapsed_sections": [],
      "authorship_tag": "ABX9TyMAosueioa9JURpKok04d70",
      "include_colab_link": true
    },
    "kernelspec": {
      "name": "python3",
      "display_name": "Python 3"
    },
    "language_info": {
      "name": "python"
    }
  },
  "cells": [
    {
      "cell_type": "markdown",
      "metadata": {
        "id": "view-in-github",
        "colab_type": "text"
      },
      "source": [
        "<a href=\"https://colab.research.google.com/github/kamalmukhalalaty/Data-Analytics/blob/main/Shopify_Data_Science_Internship_Challenge_Kamal_Mukhalalaty.ipynb\" target=\"_parent\"><img src=\"https://colab.research.google.com/assets/colab-badge.svg\" alt=\"Open In Colab\"/></a>"
      ]
    },
    {
      "cell_type": "markdown",
      "metadata": {
        "id": "Q-NfDgOVw8G9"
      },
      "source": [
        "#Fall 2021 Data Science Intern Challenge \n",
        "\n",
        "Please complete the following questions, and provide your thought process/work. You can attach your work in a text file, link, etc. on the application page. Please ensure answers are easily visible for reviewers!"
      ]
    },
    {
      "cell_type": "markdown",
      "metadata": {
        "id": "0pYWFvr0w2tw"
      },
      "source": [
        "## Question 1: \n",
        "\n",
        "Given some sample data, write a program to answer the following: click here to access the required data set:\n",
        "\n",
        "(https://docs.google.com/spreadsheets/d/16i38oonuX1y1g7C_UAmiK9GkY7cS-64DfiDMNiR41LM/edit#gid=0)\n",
        "\n",
        "On Shopify, we have exactly 100 sneaker shops, and each of these shops sells only one model of shoe. We want to do some analysis of the average order value (AOV). When we look at orders data over a 30 day window, we naively calculate an AOV of $3145.13. Given that we know these shops are selling sneakers, a relatively affordable item, something seems wrong with our analysis. \n",
        "\n",
        ">a. Think about what could be going wrong with our calculation. \n",
        "\n",
        ">b.  Think about a better way to evaluate this data. \n",
        "\n",
        ">c. What metric would you report for this dataset?\n",
        "\n",
        ">d. What is its value?"
      ]
    },
    {
      "cell_type": "markdown",
      "metadata": {
        "id": "ZZ1Zz4kl8GER"
      },
      "source": [
        "### Data Loading, Transformation & Feature Engineeirng"
      ]
    },
    {
      "cell_type": "code",
      "metadata": {
        "id": "eMhEkbM2yKcz"
      },
      "source": [
        "import pandas as pd\n",
        "from google.colab import auth\n",
        "auth.authenticate_user()\n",
        "import gspread\n",
        "from oauth2client.client import GoogleCredentials\n",
        "gc = gspread.authorize(GoogleCredentials.get_application_default())"
      ],
      "execution_count": null,
      "outputs": []
    },
    {
      "cell_type": "code",
      "metadata": {
        "colab": {
          "base_uri": "https://localhost:8080/",
          "height": 197
        },
        "id": "9dp818ZMzL5j",
        "outputId": "8f90a82e-16aa-4251-86e1-e0011eb7f4f9"
      },
      "source": [
        "wb = gc.open_by_url('https://docs.google.com/spreadsheets/d/16i38oonuX1y1g7C_UAmiK9GkY7cS-64DfiDMNiR41LM/edit#gid=0')\n",
        "sheet = wb.worksheet('Sheet1')\n",
        "data = sheet.get_all_values()\n",
        "df = pd.DataFrame(data)\n",
        "#take first row as the column names\n",
        "df.columns = df.iloc[0]\n",
        "df = df.iloc[1:]\n",
        "df.head()"
      ],
      "execution_count": null,
      "outputs": [
        {
          "output_type": "execute_result",
          "data": {
            "text/html": [
              "<div>\n",
              "<style scoped>\n",
              "    .dataframe tbody tr th:only-of-type {\n",
              "        vertical-align: middle;\n",
              "    }\n",
              "\n",
              "    .dataframe tbody tr th {\n",
              "        vertical-align: top;\n",
              "    }\n",
              "\n",
              "    .dataframe thead th {\n",
              "        text-align: right;\n",
              "    }\n",
              "</style>\n",
              "<table border=\"1\" class=\"dataframe\">\n",
              "  <thead>\n",
              "    <tr style=\"text-align: right;\">\n",
              "      <th></th>\n",
              "      <th>order_id</th>\n",
              "      <th>shop_id</th>\n",
              "      <th>user_id</th>\n",
              "      <th>order_amount</th>\n",
              "      <th>total_items</th>\n",
              "      <th>payment_method</th>\n",
              "      <th>created_at</th>\n",
              "    </tr>\n",
              "  </thead>\n",
              "  <tbody>\n",
              "    <tr>\n",
              "      <th>1</th>\n",
              "      <td>1</td>\n",
              "      <td>53</td>\n",
              "      <td>746</td>\n",
              "      <td>224</td>\n",
              "      <td>2</td>\n",
              "      <td>cash</td>\n",
              "      <td>2017-03-13 12:36:56</td>\n",
              "    </tr>\n",
              "    <tr>\n",
              "      <th>2</th>\n",
              "      <td>2</td>\n",
              "      <td>92</td>\n",
              "      <td>925</td>\n",
              "      <td>90</td>\n",
              "      <td>1</td>\n",
              "      <td>cash</td>\n",
              "      <td>2017-03-03 17:38:52</td>\n",
              "    </tr>\n",
              "    <tr>\n",
              "      <th>3</th>\n",
              "      <td>3</td>\n",
              "      <td>44</td>\n",
              "      <td>861</td>\n",
              "      <td>144</td>\n",
              "      <td>1</td>\n",
              "      <td>cash</td>\n",
              "      <td>2017-03-14 4:23:56</td>\n",
              "    </tr>\n",
              "    <tr>\n",
              "      <th>4</th>\n",
              "      <td>4</td>\n",
              "      <td>18</td>\n",
              "      <td>935</td>\n",
              "      <td>156</td>\n",
              "      <td>1</td>\n",
              "      <td>credit_card</td>\n",
              "      <td>2017-03-26 12:43:37</td>\n",
              "    </tr>\n",
              "    <tr>\n",
              "      <th>5</th>\n",
              "      <td>5</td>\n",
              "      <td>18</td>\n",
              "      <td>883</td>\n",
              "      <td>156</td>\n",
              "      <td>1</td>\n",
              "      <td>credit_card</td>\n",
              "      <td>2017-03-01 4:35:11</td>\n",
              "    </tr>\n",
              "  </tbody>\n",
              "</table>\n",
              "</div>"
            ],
            "text/plain": [
              "0 order_id shop_id user_id  ... total_items payment_method           created_at\n",
              "1        1      53     746  ...           2           cash  2017-03-13 12:36:56\n",
              "2        2      92     925  ...           1           cash  2017-03-03 17:38:52\n",
              "3        3      44     861  ...           1           cash   2017-03-14 4:23:56\n",
              "4        4      18     935  ...           1    credit_card  2017-03-26 12:43:37\n",
              "5        5      18     883  ...           1    credit_card   2017-03-01 4:35:11\n",
              "\n",
              "[5 rows x 7 columns]"
            ]
          },
          "metadata": {
            "tags": []
          },
          "execution_count": 129
        }
      ]
    },
    {
      "cell_type": "code",
      "metadata": {
        "colab": {
          "base_uri": "https://localhost:8080/",
          "height": 352
        },
        "id": "wUbKm7Wd3C2h",
        "outputId": "1bdb549d-dabd-4f6f-9b74-b15a9c04210e"
      },
      "source": [
        "import seaborn as sns\n",
        "import matplotlib.pyplot as plt\n",
        "#Check for nans visualized using heatmap\n",
        "fig, ax = plt.subplots(figsize=(10,5))\n",
        "sns.heatmap(df.isnull(), cmap='coolwarm', yticklabels=False, cbar=False, ax=ax)"
      ],
      "execution_count": null,
      "outputs": [
        {
          "output_type": "execute_result",
          "data": {
            "text/plain": [
              "<matplotlib.axes._subplots.AxesSubplot at 0x7f01a29fd410>"
            ]
          },
          "metadata": {
            "tags": []
          },
          "execution_count": 130
        },
        {
          "output_type": "display_data",
          "data": {
            "image/png": "[encoded data removed]",
            "text/plain": [
              "<Figure size 720x360 with 1 Axes>"
            ]
          },
          "metadata": {
            "tags": [],
            "needs_background": "light"
          }
        }
      ]
    },
    {
      "cell_type": "markdown",
      "metadata": {
        "id": "uQSveuPz3Sum"
      },
      "source": [
        "Thank you for the clean data!"
      ]
    },
    {
      "cell_type": "code",
      "metadata": {
        "colab": {
          "base_uri": "https://localhost:8080/"
        },
        "id": "3GrIev1j1A7C",
        "outputId": "25b17c59-ff49-450b-af75-58b1fe2e5bde"
      },
      "source": [
        "# check data types\n",
        "df.dtypes"
      ],
      "execution_count": null,
      "outputs": [
        {
          "output_type": "execute_result",
          "data": {
            "text/plain": [
              "0\n",
              "order_id          object\n",
              "shop_id           object\n",
              "user_id           object\n",
              "order_amount      object\n",
              "total_items       object\n",
              "payment_method    object\n",
              "created_at        object\n",
              "dtype: object"
            ]
          },
          "metadata": {
            "tags": []
          },
          "execution_count": 131
        }
      ]
    },
    {
      "cell_type": "markdown",
      "metadata": {
        "id": "u5-zAVoLu6ZH"
      },
      "source": [
        "Will need to change data types to pull descriptive statistics "
      ]
    },
    {
      "cell_type": "code",
      "metadata": {
        "id": "ygg_vPtV7Mfz"
      },
      "source": [
        "# convert just columns 'order_id':'order_amount' to numeric\n",
        "inter=df.loc[:,'order_id':'total_items'].apply(pd.to_numeric)\n",
        "df=pd.concat([inter, df.loc[:,'payment_method':]],axis=1)"
      ],
      "execution_count": null,
      "outputs": []
    },
    {
      "cell_type": "markdown",
      "metadata": {
        "id": "MQ1-imvP7Ncj"
      },
      "source": [
        "I will create a feature for the actual price to help put the order_amount & total_items column values into context."
      ]
    },
    {
      "cell_type": "code",
      "metadata": {
        "id": "0Ht6NF7e7pF7"
      },
      "source": [
        "df['price']=df.order_amount/df.total_items"
      ],
      "execution_count": null,
      "outputs": []
    },
    {
      "cell_type": "markdown",
      "metadata": {
        "id": "KW5YS686xHd0"
      },
      "source": [
        "### a. Think about what could be going wrong with our calculation.\n",
        "\n",
        "Average Order Value (OVA) of $3145.13"
      ]
    },
    {
      "cell_type": "code",
      "metadata": {
        "colab": {
          "base_uri": "https://localhost:8080/"
        },
        "id": "Vku4pgeb0iL0",
        "outputId": "5fc8ac2a-0372-4c73-a55e-a88abb6b8176"
      },
      "source": [
        "df.order_amount.describe()"
      ],
      "execution_count": null,
      "outputs": [
        {
          "output_type": "execute_result",
          "data": {
            "text/plain": [
              "count      5000.000000\n",
              "mean       3145.128000\n",
              "std       41282.539349\n",
              "min          90.000000\n",
              "25%         163.000000\n",
              "50%         284.000000\n",
              "75%         390.000000\n",
              "max      704000.000000\n",
              "Name: order_amount, dtype: float64"
            ]
          },
          "metadata": {
            "tags": []
          },
          "execution_count": 134
        }
      ]
    },
    {
      "cell_type": "code",
      "metadata": {
        "colab": {
          "base_uri": "https://localhost:8080/"
        },
        "id": "-YVjV_i4wzW3",
        "outputId": "baa8fc5e-ff0c-4a7e-a685-701aa0497cb5"
      },
      "source": [
        "df.dtypes"
      ],
      "execution_count": null,
      "outputs": [
        {
          "output_type": "execute_result",
          "data": {
            "text/plain": [
              "0\n",
              "order_id            int64\n",
              "shop_id             int64\n",
              "user_id             int64\n",
              "order_amount        int64\n",
              "total_items         int64\n",
              "payment_method     object\n",
              "created_at         object\n",
              "price             float64\n",
              "dtype: object"
            ]
          },
          "metadata": {
            "tags": []
          },
          "execution_count": 135
        }
      ]
    },
    {
      "cell_type": "markdown",
      "metadata": {
        "id": "eR1tCDck4Q7x"
      },
      "source": [
        "Here we see a large dissconect between the mean and median (mean=3145.128 vs meadian(50%)=284) which indicates that we are dealing with a skewed distribution as shown in the histogram bellow."
      ]
    },
    {
      "cell_type": "code",
      "metadata": {
        "colab": {
          "base_uri": "https://localhost:8080/",
          "height": 264
        },
        "id": "hWCHH9nX5OKB",
        "outputId": "7fd3d6e6-4d40-4376-a804-19ad14380a15"
      },
      "source": [
        "plt.hist(df.order_amount, bins=20);"
      ],
      "execution_count": null,
      "outputs": [
        {
          "output_type": "display_data",
          "data": {
            "image/png": "[encoded data removed]",
            "text/plain": [
              "<Figure size 432x288 with 1 Axes>"
            ]
          },
          "metadata": {
            "tags": [],
            "needs_background": "light"
          }
        }
      ]
    },
    {
      "cell_type": "markdown",
      "metadata": {
        "id": "lwGFJQaC9gAo"
      },
      "source": [
        "looking carefully we can see a small bar (fat tail) in the $700,000 region, this extreme outlier can skew the mean!"
      ]
    },
    {
      "cell_type": "markdown",
      "metadata": {
        "id": "umpXWF8O5zSS"
      },
      "source": [
        "####**Conclusion:**\n",
        "**Based on Summary Statistics:**\n",
        "\n",
        "- The Mean is deceivingly very large and evidently skewed at **$3145.128** \n",
        "  - *The quoted AOV value is the mean of order amounts, given the skewed nature of the mean, it is clearly not the best metric to use here.*\n",
        "\n",
        "- The Standard Deviation is larger than the mean itself at **$ 41,282** \n",
        "  - *Further supporting that the mean is not the best metric to use in this case*\n",
        "\n",
        "- We see some massive outliers that have certainly skewed the Mean like the Max order value of **$704,000**\n"
      ]
    },
    {
      "cell_type": "markdown",
      "metadata": {
        "id": "qj9mjhJ59K4p"
      },
      "source": [
        "### b. Think about a better way to evaluate this data.\n",
        "\n",
        "- One approach (The easy way out):\n",
        "  - Based on my findings from part **a.** A more appropriate metric to use here would be the median of **$284.0**. Just as that would be a more fair metric to use when evaluating income, in both cases you have outliers skewing the mean.\n",
        "\n",
        "  - However, even then **$284** intuitively seems too high for sneakers. \n",
        "\n",
        "- Alternatively (The right way):\n",
        "  - Find the outliers, filter them out and use the mean of the filtered data.\n",
        "  - according to our histogram the majority of the order values are in the $0-500 range. This could constitute retail buyers. a more useful statistic would be the mean of order values for just the retails buyers.\n",
        "  - It is also evident that we have a fat tail that could be made up of commercial buyers. Describing this subset with its own mean could be of value if the amount of data is sufficient and diverse enough to be representative of the population yielding statistically significant & unbiased descriptive statistics.\n",
        "\n",
        "**I will take on the alternative approach!**"
      ]
    },
    {
      "cell_type": "markdown",
      "metadata": {
        "id": "Rj_NfDU45FP0"
      },
      "source": [
        "#### Full Dataset"
      ]
    },
    {
      "cell_type": "markdown",
      "metadata": {
        "id": "N1zyDgea-oc8"
      },
      "source": [
        "looking at the outliers"
      ]
    },
    {
      "cell_type": "code",
      "metadata": {
        "colab": {
          "base_uri": "https://localhost:8080/",
          "height": 353
        },
        "id": "ChVU7Fth-DdW",
        "outputId": "f1dc4710-64f9-495b-9175-2260163238f7"
      },
      "source": [
        "plt.figure(figsize=(20,5))\n",
        "sns.boxplot(df.order_amount);"
      ],
      "execution_count": null,
      "outputs": [
        {
          "output_type": "stream",
          "text": [
            "/usr/local/lib/python3.7/dist-packages/seaborn/_decorators.py:43: FutureWarning: Pass the following variable as a keyword arg: x. From version 0.12, the only valid positional argument will be `data`, and passing other arguments without an explicit keyword will result in an error or misinterpretation.\n",
            "  FutureWarning\n"
          ],
          "name": "stderr"
        },
        {
          "output_type": "display_data",
          "data": {
            "image/png": "[encoded data removed]",
            "text/plain": [
              "<Figure size 1440x360 with 1 Axes>"
            ]
          },
          "metadata": {
            "tags": [],
            "needs_background": "light"
          }
        }
      ]
    },
    {
      "cell_type": "markdown",
      "metadata": {
        "id": "f6HLY7Ye8cAP"
      },
      "source": [
        "Thats a lot of outliers"
      ]
    },
    {
      "cell_type": "markdown",
      "metadata": {
        "id": "D2Hrul9XArjH"
      },
      "source": [
        "**Zeroing in on the outliers**"
      ]
    },
    {
      "cell_type": "code",
      "metadata": {
        "colab": {
          "base_uri": "https://localhost:8080/"
        },
        "id": "CerYgRkdAtnJ",
        "outputId": "d553065c-d398-457f-b754-60eaf5868479"
      },
      "source": [
        "filter=df.sort_values(by='order_amount',ascending=False)\n",
        "filter.groupby(['order_amount']).count().sort_values(by='order_amount',ascending=False).order_id[:15]"
      ],
      "execution_count": null,
      "outputs": [
        {
          "output_type": "execute_result",
          "data": {
            "text/plain": [
              "order_amount\n",
              "704000    17\n",
              "154350     1\n",
              "102900     1\n",
              "77175      9\n",
              "51450     16\n",
              "25725     19\n",
              "1760       1\n",
              "1408       2\n",
              "1086       1\n",
              "1064       1\n",
              "1056       3\n",
              "980        1\n",
              "965        1\n",
              "960        2\n",
              "948        1\n",
              "Name: order_id, dtype: int64"
            ]
          },
          "metadata": {
            "tags": []
          },
          "execution_count": 138
        }
      ]
    },
    {
      "cell_type": "markdown",
      "metadata": {
        "id": "r2DNdFXMDduS"
      },
      "source": [
        "Here we see that there is a significant amount of large order values (our outliers) and they occur at high frequencies. For example: \n",
        "- **$704,000** order being placed 17 times\n",
        "\n",
        "- **$51,450** order being placed 16 times\n",
        "\n",
        "- **$25,725** order being placed 19 times\n",
        "\n",
        "\n",
        "In this case the fact that these order values were each repeated over 16 seperate times within the span of a month, could indicate a routine bulk order. \n",
        "\n",
        "Due to the enormity of the gap between the 1,760 and 25,725 order values, I am tempted to draw a line between them and use the smaller order value distribution for my new average. \n",
        "\n",
        "However, the common statistical approach is to add (1.5 * the Inner Quartile Range (IQR)) to the upper and lower quartiles like follows:\n",
        "\n",
        "- UPPER LIMIT= UPPER_QUARTILE + IQR*1.5\n",
        "- LOWER LIMIT LOWER_QUARTILE - IQR*1.5\n",
        "\n",
        "The Box Plots represent this information in a visual manner where the box represnets values within the IQR and the whiskers represnet the upper and lower limits. \n",
        "\n",
        "There is a caveat as explained bellow:"
      ]
    },
    {
      "cell_type": "markdown",
      "metadata": {
        "id": "fdHwX8YWSgxQ"
      },
      "source": [
        "The whiskers extend to the lowest (highest) data points still within 1.5*Inner Quartile Range (IQR) of the lower (upper) quartile. So depending on where the data points are, the whiskers on both sides won't necessarily be of the same length.\n",
        "\n",
        "For a better understanding of how the box plot works and outliers are defined please refer to the image and links below.\n",
        "\n",
        "https://stackoverflow.com/questions/51694935/seaborns-boxplot-whiskers-meaning\n",
        "\n",
        "![image.png](data:image/png;base64,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)\n",
        "\n",
        "https://upload.wikimedia.org/wikipedia/commons/thumb/1/1a/Boxplot_vs_PDF.svg/500px-Boxplot_vs_PDF.svg.png\n"
      ]
    },
    {
      "cell_type": "markdown",
      "metadata": {
        "id": "OswJHHks9smF"
      },
      "source": [
        "Now that we know what we are dealing with, lets filter the data!"
      ]
    },
    {
      "cell_type": "markdown",
      "metadata": {
        "id": "pLbgPD8OH17T"
      },
      "source": [
        "#### Filtration Process"
      ]
    },
    {
      "cell_type": "code",
      "metadata": {
        "colab": {
          "base_uri": "https://localhost:8080/"
        },
        "id": "w2pKAZcGVBnn",
        "outputId": "efc3a8df-566c-4286-f4e4-a5aa7f9fbca4"
      },
      "source": [
        "# Compile Quartile and IQR Information\n",
        "q1 = df.order_amount.quantile(0.25)\n",
        "q3 =df.order_amount.quantile(0.75)\n",
        "iqr = q3 - q1\n",
        "limit_lower = q1 - 1.5*iqr\n",
        "limit_upper = q3 + 1.5*iqr\n",
        "print('Upper Limit=', limit_upper)\n",
        "print('Lower Limit=', limit_lower)\n",
        "# Filtering the data based on this\n",
        "filtered_out=df[(df.order_amount <= limit_lower) | (df.order_amount >= limit_upper)]\n",
        "filtered_in=df[(df.order_amount > limit_lower) & (df.order_amount < limit_upper)]"
      ],
      "execution_count": null,
      "outputs": [
        {
          "output_type": "stream",
          "text": [
            "Upper Limit= 730.5\n",
            "Lower Limit= -177.5\n"
          ],
          "name": "stdout"
        }
      ]
    },
    {
      "cell_type": "markdown",
      "metadata": {
        "id": "BDsx_oE89ySM"
      },
      "source": [
        "**$730** seems low for an upper limit. this may not be the best approach however I will follow through. "
      ]
    },
    {
      "cell_type": "markdown",
      "metadata": {
        "id": "K6J5uws-_cNA"
      },
      "source": [
        "#### Filtered Out Data (Suspected Commertial Buyers)"
      ]
    },
    {
      "cell_type": "code",
      "metadata": {
        "colab": {
          "base_uri": "https://localhost:8080/"
        },
        "id": "dBIrYYjUVRO1",
        "outputId": "87f77eb0-e011-451c-acc8-3e790c79fdcb"
      },
      "source": [
        "filtered_out.order_amount.describe()"
      ],
      "execution_count": null,
      "outputs": [
        {
          "output_type": "execute_result",
          "data": {
            "text/plain": [
              "count       141.000000\n",
              "mean     101407.638298\n",
              "std      225491.524131\n",
              "min         735.000000\n",
              "25%         786.000000\n",
              "50%        1056.000000\n",
              "75%       51450.000000\n",
              "max      704000.000000\n",
              "Name: order_amount, dtype: float64"
            ]
          },
          "metadata": {
            "tags": []
          },
          "execution_count": 140
        }
      ]
    },
    {
      "cell_type": "markdown",
      "metadata": {
        "id": "llhl3jv8Vba7"
      },
      "source": [
        "For starters, the mean is significantly higher at $$101,407 vs our mean over the full dataset of $3,145"
      ]
    },
    {
      "cell_type": "markdown",
      "metadata": {
        "id": "Rq_hyQl2WMx0"
      },
      "source": [
        "Looking at the dataframe"
      ]
    },
    {
      "cell_type": "code",
      "metadata": {
        "colab": {
          "base_uri": "https://localhost:8080/",
          "height": 406
        },
        "id": "uIC8RvpBaJVz",
        "outputId": "c580660b-89b0-41e5-ccb0-48398b69acf2"
      },
      "source": [
        "filtered_out.sort_values(by='order_amount', ascending=False)"
      ],
      "execution_count": null,
      "outputs": [
        {
          "output_type": "execute_result",
          "data": {
            "text/html": [
              "<div>\n",
              "<style scoped>\n",
              "    .dataframe tbody tr th:only-of-type {\n",
              "        vertical-align: middle;\n",
              "    }\n",
              "\n",
              "    .dataframe tbody tr th {\n",
              "        vertical-align: top;\n",
              "    }\n",
              "\n",
              "    .dataframe thead th {\n",
              "        text-align: right;\n",
              "    }\n",
              "</style>\n",
              "<table border=\"1\" class=\"dataframe\">\n",
              "  <thead>\n",
              "    <tr style=\"text-align: right;\">\n",
              "      <th></th>\n",
              "      <th>order_id</th>\n",
              "      <th>shop_id</th>\n",
              "      <th>user_id</th>\n",
              "      <th>order_amount</th>\n",
              "      <th>total_items</th>\n",
              "      <th>payment_method</th>\n",
              "      <th>created_at</th>\n",
              "      <th>price</th>\n",
              "    </tr>\n",
              "  </thead>\n",
              "  <tbody>\n",
              "    <tr>\n",
              "      <th>16</th>\n",
              "      <td>16</td>\n",
              "      <td>42</td>\n",
              "      <td>607</td>\n",
              "      <td>704000</td>\n",
              "      <td>2000</td>\n",
              "      <td>credit_card</td>\n",
              "      <td>2017-03-07 4:00:00</td>\n",
              "      <td>352.0</td>\n",
              "    </tr>\n",
              "    <tr>\n",
              "      <th>521</th>\n",
              "      <td>521</td>\n",
              "      <td>42</td>\n",
              "      <td>607</td>\n",
              "      <td>704000</td>\n",
              "      <td>2000</td>\n",
              "      <td>credit_card</td>\n",
              "      <td>2017-03-02 4:00:00</td>\n",
              "      <td>352.0</td>\n",
              "    </tr>\n",
              "    <tr>\n",
              "      <th>1563</th>\n",
              "      <td>1563</td>\n",
              "      <td>42</td>\n",
              "      <td>607</td>\n",
              "      <td>704000</td>\n",
              "      <td>2000</td>\n",
              "      <td>credit_card</td>\n",
              "      <td>2017-03-19 4:00:00</td>\n",
              "      <td>352.0</td>\n",
              "    </tr>\n",
              "    <tr>\n",
              "      <th>1363</th>\n",
              "      <td>1363</td>\n",
              "      <td>42</td>\n",
              "      <td>607</td>\n",
              "      <td>704000</td>\n",
              "      <td>2000</td>\n",
              "      <td>credit_card</td>\n",
              "      <td>2017-03-15 4:00:00</td>\n",
              "      <td>352.0</td>\n",
              "    </tr>\n",
              "    <tr>\n",
              "      <th>1603</th>\n",
              "      <td>1603</td>\n",
              "      <td>42</td>\n",
              "      <td>607</td>\n",
              "      <td>704000</td>\n",
              "      <td>2000</td>\n",
              "      <td>credit_card</td>\n",
              "      <td>2017-03-17 4:00:00</td>\n",
              "      <td>352.0</td>\n",
              "    </tr>\n",
              "    <tr>\n",
              "      <th>...</th>\n",
              "      <td>...</td>\n",
              "      <td>...</td>\n",
              "      <td>...</td>\n",
              "      <td>...</td>\n",
              "      <td>...</td>\n",
              "      <td>...</td>\n",
              "      <td>...</td>\n",
              "      <td>...</td>\n",
              "    </tr>\n",
              "    <tr>\n",
              "      <th>3429</th>\n",
              "      <td>3429</td>\n",
              "      <td>11</td>\n",
              "      <td>922</td>\n",
              "      <td>736</td>\n",
              "      <td>4</td>\n",
              "      <td>cash</td>\n",
              "      <td>2017-03-04 21:14:40</td>\n",
              "      <td>184.0</td>\n",
              "    </tr>\n",
              "    <tr>\n",
              "      <th>1504</th>\n",
              "      <td>1504</td>\n",
              "      <td>11</td>\n",
              "      <td>904</td>\n",
              "      <td>736</td>\n",
              "      <td>4</td>\n",
              "      <td>debit</td>\n",
              "      <td>2017-03-06 23:08:25</td>\n",
              "      <td>184.0</td>\n",
              "    </tr>\n",
              "    <tr>\n",
              "      <th>3610</th>\n",
              "      <td>3610</td>\n",
              "      <td>11</td>\n",
              "      <td>901</td>\n",
              "      <td>736</td>\n",
              "      <td>4</td>\n",
              "      <td>debit</td>\n",
              "      <td>2017-03-08 2:21:55</td>\n",
              "      <td>184.0</td>\n",
              "    </tr>\n",
              "    <tr>\n",
              "      <th>3518</th>\n",
              "      <td>3518</td>\n",
              "      <td>11</td>\n",
              "      <td>732</td>\n",
              "      <td>736</td>\n",
              "      <td>4</td>\n",
              "      <td>debit</td>\n",
              "      <td>2017-03-20 8:36:02</td>\n",
              "      <td>184.0</td>\n",
              "    </tr>\n",
              "    <tr>\n",
              "      <th>4491</th>\n",
              "      <td>4491</td>\n",
              "      <td>57</td>\n",
              "      <td>941</td>\n",
              "      <td>735</td>\n",
              "      <td>5</td>\n",
              "      <td>credit_card</td>\n",
              "      <td>2017-03-20 8:55:46</td>\n",
              "      <td>147.0</td>\n",
              "    </tr>\n",
              "  </tbody>\n",
              "</table>\n",
              "<p>141 rows × 8 columns</p>\n",
              "</div>"
            ],
            "text/plain": [
              "0     order_id  shop_id  user_id  ...  payment_method           created_at  price\n",
              "16          16       42      607  ...     credit_card   2017-03-07 4:00:00  352.0\n",
              "521        521       42      607  ...     credit_card   2017-03-02 4:00:00  352.0\n",
              "1563      1563       42      607  ...     credit_card   2017-03-19 4:00:00  352.0\n",
              "1363      1363       42      607  ...     credit_card   2017-03-15 4:00:00  352.0\n",
              "1603      1603       42      607  ...     credit_card   2017-03-17 4:00:00  352.0\n",
              "...        ...      ...      ...  ...             ...                  ...    ...\n",
              "3429      3429       11      922  ...            cash  2017-03-04 21:14:40  184.0\n",
              "1504      1504       11      904  ...           debit  2017-03-06 23:08:25  184.0\n",
              "3610      3610       11      901  ...           debit   2017-03-08 2:21:55  184.0\n",
              "3518      3518       11      732  ...           debit   2017-03-20 8:36:02  184.0\n",
              "4491      4491       57      941  ...     credit_card   2017-03-20 8:55:46  147.0\n",
              "\n",
              "[141 rows x 8 columns]"
            ]
          },
          "metadata": {
            "tags": []
          },
          "execution_count": 141
        }
      ]
    },
    {
      "cell_type": "markdown",
      "metadata": {
        "id": "_f1eiSLLa9io"
      },
      "source": [
        "Recall: \n",
        "- **$704,000** order placed 17 times\n",
        "\n",
        "- **$51,450** order placed 16 times\n",
        "\n",
        "- **$25,725** order placed 19 times"
      ]
    },
    {
      "cell_type": "markdown",
      "metadata": {
        "id": "Ah2z_w59BfqO"
      },
      "source": [
        "**zeroing in on the largest order value of $704,000**"
      ]
    },
    {
      "cell_type": "code",
      "metadata": {
        "colab": {
          "base_uri": "https://localhost:8080/",
          "height": 557
        },
        "id": "wzDAxA-oBntF",
        "outputId": "1ce982f3-d5cc-436c-e2a2-8d7b464026df"
      },
      "source": [
        "filtered_out[filtered_out.order_amount==704000]"
      ],
      "execution_count": null,
      "outputs": [
        {
          "output_type": "execute_result",
          "data": {
            "text/html": [
              "<div>\n",
              "<style scoped>\n",
              "    .dataframe tbody tr th:only-of-type {\n",
              "        vertical-align: middle;\n",
              "    }\n",
              "\n",
              "    .dataframe tbody tr th {\n",
              "        vertical-align: top;\n",
              "    }\n",
              "\n",
              "    .dataframe thead th {\n",
              "        text-align: right;\n",
              "    }\n",
              "</style>\n",
              "<table border=\"1\" class=\"dataframe\">\n",
              "  <thead>\n",
              "    <tr style=\"text-align: right;\">\n",
              "      <th></th>\n",
              "      <th>order_id</th>\n",
              "      <th>shop_id</th>\n",
              "      <th>user_id</th>\n",
              "      <th>order_amount</th>\n",
              "      <th>total_items</th>\n",
              "      <th>payment_method</th>\n",
              "      <th>created_at</th>\n",
              "      <th>price</th>\n",
              "    </tr>\n",
              "  </thead>\n",
              "  <tbody>\n",
              "    <tr>\n",
              "      <th>16</th>\n",
              "      <td>16</td>\n",
              "      <td>42</td>\n",
              "      <td>607</td>\n",
              "      <td>704000</td>\n",
              "      <td>2000</td>\n",
              "      <td>credit_card</td>\n",
              "      <td>2017-03-07 4:00:00</td>\n",
              "      <td>352.0</td>\n",
              "    </tr>\n",
              "    <tr>\n",
              "      <th>61</th>\n",
              "      <td>61</td>\n",
              "      <td>42</td>\n",
              "      <td>607</td>\n",
              "      <td>704000</td>\n",
              "      <td>2000</td>\n",
              "      <td>credit_card</td>\n",
              "      <td>2017-03-04 4:00:00</td>\n",
              "      <td>352.0</td>\n",
              "    </tr>\n",
              "    <tr>\n",
              "      <th>521</th>\n",
              "      <td>521</td>\n",
              "      <td>42</td>\n",
              "      <td>607</td>\n",
              "      <td>704000</td>\n",
              "      <td>2000</td>\n",
              "      <td>credit_card</td>\n",
              "      <td>2017-03-02 4:00:00</td>\n",
              "      <td>352.0</td>\n",
              "    </tr>\n",
              "    <tr>\n",
              "      <th>1105</th>\n",
              "      <td>1105</td>\n",
              "      <td>42</td>\n",
              "      <td>607</td>\n",
              "      <td>704000</td>\n",
              "      <td>2000</td>\n",
              "      <td>credit_card</td>\n",
              "      <td>2017-03-24 4:00:00</td>\n",
              "      <td>352.0</td>\n",
              "    </tr>\n",
              "    <tr>\n",
              "      <th>1363</th>\n",
              "      <td>1363</td>\n",
              "      <td>42</td>\n",
              "      <td>607</td>\n",
              "      <td>704000</td>\n",
              "      <td>2000</td>\n",
              "      <td>credit_card</td>\n",
              "      <td>2017-03-15 4:00:00</td>\n",
              "      <td>352.0</td>\n",
              "    </tr>\n",
              "    <tr>\n",
              "      <th>1437</th>\n",
              "      <td>1437</td>\n",
              "      <td>42</td>\n",
              "      <td>607</td>\n",
              "      <td>704000</td>\n",
              "      <td>2000</td>\n",
              "      <td>credit_card</td>\n",
              "      <td>2017-03-11 4:00:00</td>\n",
              "      <td>352.0</td>\n",
              "    </tr>\n",
              "    <tr>\n",
              "      <th>1563</th>\n",
              "      <td>1563</td>\n",
              "      <td>42</td>\n",
              "      <td>607</td>\n",
              "      <td>704000</td>\n",
              "      <td>2000</td>\n",
              "      <td>credit_card</td>\n",
              "      <td>2017-03-19 4:00:00</td>\n",
              "      <td>352.0</td>\n",
              "    </tr>\n",
              "    <tr>\n",
              "      <th>1603</th>\n",
              "      <td>1603</td>\n",
              "      <td>42</td>\n",
              "      <td>607</td>\n",
              "      <td>704000</td>\n",
              "      <td>2000</td>\n",
              "      <td>credit_card</td>\n",
              "      <td>2017-03-17 4:00:00</td>\n",
              "      <td>352.0</td>\n",
              "    </tr>\n",
              "    <tr>\n",
              "      <th>2154</th>\n",
              "      <td>2154</td>\n",
              "      <td>42</td>\n",
              "      <td>607</td>\n",
              "      <td>704000</td>\n",
              "      <td>2000</td>\n",
              "      <td>credit_card</td>\n",
              "      <td>2017-03-12 4:00:00</td>\n",
              "      <td>352.0</td>\n",
              "    </tr>\n",
              "    <tr>\n",
              "      <th>2298</th>\n",
              "      <td>2298</td>\n",
              "      <td>42</td>\n",
              "      <td>607</td>\n",
              "      <td>704000</td>\n",
              "      <td>2000</td>\n",
              "      <td>credit_card</td>\n",
              "      <td>2017-03-07 4:00:00</td>\n",
              "      <td>352.0</td>\n",
              "    </tr>\n",
              "    <tr>\n",
              "      <th>2836</th>\n",
              "      <td>2836</td>\n",
              "      <td>42</td>\n",
              "      <td>607</td>\n",
              "      <td>704000</td>\n",
              "      <td>2000</td>\n",
              "      <td>credit_card</td>\n",
              "      <td>2017-03-28 4:00:00</td>\n",
              "      <td>352.0</td>\n",
              "    </tr>\n",
              "    <tr>\n",
              "      <th>2970</th>\n",
              "      <td>2970</td>\n",
              "      <td>42</td>\n",
              "      <td>607</td>\n",
              "      <td>704000</td>\n",
              "      <td>2000</td>\n",
              "      <td>credit_card</td>\n",
              "      <td>2017-03-28 4:00:00</td>\n",
              "      <td>352.0</td>\n",
              "    </tr>\n",
              "    <tr>\n",
              "      <th>3333</th>\n",
              "      <td>3333</td>\n",
              "      <td>42</td>\n",
              "      <td>607</td>\n",
              "      <td>704000</td>\n",
              "      <td>2000</td>\n",
              "      <td>credit_card</td>\n",
              "      <td>2017-03-24 4:00:00</td>\n",
              "      <td>352.0</td>\n",
              "    </tr>\n",
              "    <tr>\n",
              "      <th>4057</th>\n",
              "      <td>4057</td>\n",
              "      <td>42</td>\n",
              "      <td>607</td>\n",
              "      <td>704000</td>\n",
              "      <td>2000</td>\n",
              "      <td>credit_card</td>\n",
              "      <td>2017-03-28 4:00:00</td>\n",
              "      <td>352.0</td>\n",
              "    </tr>\n",
              "    <tr>\n",
              "      <th>4647</th>\n",
              "      <td>4647</td>\n",
              "      <td>42</td>\n",
              "      <td>607</td>\n",
              "      <td>704000</td>\n",
              "      <td>2000</td>\n",
              "      <td>credit_card</td>\n",
              "      <td>2017-03-02 4:00:00</td>\n",
              "      <td>352.0</td>\n",
              "    </tr>\n",
              "    <tr>\n",
              "      <th>4869</th>\n",
              "      <td>4869</td>\n",
              "      <td>42</td>\n",
              "      <td>607</td>\n",
              "      <td>704000</td>\n",
              "      <td>2000</td>\n",
              "      <td>credit_card</td>\n",
              "      <td>2017-03-22 4:00:00</td>\n",
              "      <td>352.0</td>\n",
              "    </tr>\n",
              "    <tr>\n",
              "      <th>4883</th>\n",
              "      <td>4883</td>\n",
              "      <td>42</td>\n",
              "      <td>607</td>\n",
              "      <td>704000</td>\n",
              "      <td>2000</td>\n",
              "      <td>credit_card</td>\n",
              "      <td>2017-03-25 4:00:00</td>\n",
              "      <td>352.0</td>\n",
              "    </tr>\n",
              "  </tbody>\n",
              "</table>\n",
              "</div>"
            ],
            "text/plain": [
              "0     order_id  shop_id  user_id  ...  payment_method          created_at  price\n",
              "16          16       42      607  ...     credit_card  2017-03-07 4:00:00  352.0\n",
              "61          61       42      607  ...     credit_card  2017-03-04 4:00:00  352.0\n",
              "521        521       42      607  ...     credit_card  2017-03-02 4:00:00  352.0\n",
              "1105      1105       42      607  ...     credit_card  2017-03-24 4:00:00  352.0\n",
              "1363      1363       42      607  ...     credit_card  2017-03-15 4:00:00  352.0\n",
              "1437      1437       42      607  ...     credit_card  2017-03-11 4:00:00  352.0\n",
              "1563      1563       42      607  ...     credit_card  2017-03-19 4:00:00  352.0\n",
              "1603      1603       42      607  ...     credit_card  2017-03-17 4:00:00  352.0\n",
              "2154      2154       42      607  ...     credit_card  2017-03-12 4:00:00  352.0\n",
              "2298      2298       42      607  ...     credit_card  2017-03-07 4:00:00  352.0\n",
              "2836      2836       42      607  ...     credit_card  2017-03-28 4:00:00  352.0\n",
              "2970      2970       42      607  ...     credit_card  2017-03-28 4:00:00  352.0\n",
              "3333      3333       42      607  ...     credit_card  2017-03-24 4:00:00  352.0\n",
              "4057      4057       42      607  ...     credit_card  2017-03-28 4:00:00  352.0\n",
              "4647      4647       42      607  ...     credit_card  2017-03-02 4:00:00  352.0\n",
              "4869      4869       42      607  ...     credit_card  2017-03-22 4:00:00  352.0\n",
              "4883      4883       42      607  ...     credit_card  2017-03-25 4:00:00  352.0\n",
              "\n",
              "[17 rows x 8 columns]"
            ]
          },
          "metadata": {
            "tags": []
          },
          "execution_count": 142
        }
      ]
    },
    {
      "cell_type": "markdown",
      "metadata": {
        "id": "niZ-5JmjBuQ4"
      },
      "source": [
        "We note the following:\n",
        "\n",
        "- same shop id\n",
        "- same user id\n",
        "- same total number of items and value\n",
        "- same order time at 4AM and payment method\n",
        "  - orders seem to be periodic\n",
        "  - could be on an automated order trigger \n",
        "  - seems to be some duplicates as well (will be investigated next)\n",
        "\n",
        "This is textbook commercial bulk ordering. The shoe itself is a little pricey at 704000/2000=$352 per pair. Especially when considering the fact that the commercial buyer will need to upsell the shoe to make a profit!"
      ]
    },
    {
      "cell_type": "markdown",
      "metadata": {
        "id": "WKKVdFDXs6AZ"
      },
      "source": [
        "Looking at duplicated times "
      ]
    },
    {
      "cell_type": "code",
      "metadata": {
        "colab": {
          "base_uri": "https://localhost:8080/"
        },
        "id": "7kefORQdC5Lf",
        "outputId": "8d3f0525-1a9b-40b5-aaa2-a8a26266bc88"
      },
      "source": [
        "filtered_out.created_at.value_counts()"
      ],
      "execution_count": null,
      "outputs": [
        {
          "output_type": "execute_result",
          "data": {
            "text/plain": [
              "2017-03-28 4:00:00     3\n",
              "2017-03-02 4:00:00     2\n",
              "2017-03-07 4:00:00     2\n",
              "2017-03-24 4:00:00     2\n",
              "2017-03-27 9:27:20     1\n",
              "                      ..\n",
              "2017-03-17 22:32:21    1\n",
              "2017-03-26 17:08:19    1\n",
              "2017-03-25 4:00:00     1\n",
              "2017-03-09 15:21:35    1\n",
              "2017-03-12 23:00:22    1\n",
              "Name: created_at, Length: 136, dtype: int64"
            ]
          },
          "metadata": {
            "tags": []
          },
          "execution_count": 143
        }
      ]
    },
    {
      "cell_type": "markdown",
      "metadata": {
        "id": "x19Iy4YhDPGQ"
      },
      "source": [
        "looking at the top 4 repeats "
      ]
    },
    {
      "cell_type": "code",
      "metadata": {
        "colab": {
          "base_uri": "https://localhost:8080/"
        },
        "id": "giEO5wCkDY7G",
        "outputId": "7c411383-7ec4-4da3-fe5b-7f8cea59490d"
      },
      "source": [
        "filtered_out.created_at.value_counts()[:4].index.values"
      ],
      "execution_count": null,
      "outputs": [
        {
          "output_type": "execute_result",
          "data": {
            "text/plain": [
              "array(['2017-03-28 4:00:00', '2017-03-02 4:00:00', '2017-03-07 4:00:00',\n",
              "       '2017-03-24 4:00:00'], dtype=object)"
            ]
          },
          "metadata": {
            "tags": []
          },
          "execution_count": 144
        }
      ]
    },
    {
      "cell_type": "code",
      "metadata": {
        "colab": {
          "base_uri": "https://localhost:8080/",
          "height": 317
        },
        "id": "3jZAlGjLCdf7",
        "outputId": "465e409b-b42d-482f-f22e-5f271d69c985"
      },
      "source": [
        "filtered_out[filtered_out.created_at.isin(filtered_out.created_at.value_counts()[:4].index.values)]"
      ],
      "execution_count": null,
      "outputs": [
        {
          "output_type": "execute_result",
          "data": {
            "text/html": [
              "<div>\n",
              "<style scoped>\n",
              "    .dataframe tbody tr th:only-of-type {\n",
              "        vertical-align: middle;\n",
              "    }\n",
              "\n",
              "    .dataframe tbody tr th {\n",
              "        vertical-align: top;\n",
              "    }\n",
              "\n",
              "    .dataframe thead th {\n",
              "        text-align: right;\n",
              "    }\n",
              "</style>\n",
              "<table border=\"1\" class=\"dataframe\">\n",
              "  <thead>\n",
              "    <tr style=\"text-align: right;\">\n",
              "      <th></th>\n",
              "      <th>order_id</th>\n",
              "      <th>shop_id</th>\n",
              "      <th>user_id</th>\n",
              "      <th>order_amount</th>\n",
              "      <th>total_items</th>\n",
              "      <th>payment_method</th>\n",
              "      <th>created_at</th>\n",
              "      <th>price</th>\n",
              "    </tr>\n",
              "  </thead>\n",
              "  <tbody>\n",
              "    <tr>\n",
              "      <th>16</th>\n",
              "      <td>16</td>\n",
              "      <td>42</td>\n",
              "      <td>607</td>\n",
              "      <td>704000</td>\n",
              "      <td>2000</td>\n",
              "      <td>credit_card</td>\n",
              "      <td>2017-03-07 4:00:00</td>\n",
              "      <td>352.0</td>\n",
              "    </tr>\n",
              "    <tr>\n",
              "      <th>521</th>\n",
              "      <td>521</td>\n",
              "      <td>42</td>\n",
              "      <td>607</td>\n",
              "      <td>704000</td>\n",
              "      <td>2000</td>\n",
              "      <td>credit_card</td>\n",
              "      <td>2017-03-02 4:00:00</td>\n",
              "      <td>352.0</td>\n",
              "    </tr>\n",
              "    <tr>\n",
              "      <th>1105</th>\n",
              "      <td>1105</td>\n",
              "      <td>42</td>\n",
              "      <td>607</td>\n",
              "      <td>704000</td>\n",
              "      <td>2000</td>\n",
              "      <td>credit_card</td>\n",
              "      <td>2017-03-24 4:00:00</td>\n",
              "      <td>352.0</td>\n",
              "    </tr>\n",
              "    <tr>\n",
              "      <th>2298</th>\n",
              "      <td>2298</td>\n",
              "      <td>42</td>\n",
              "      <td>607</td>\n",
              "      <td>704000</td>\n",
              "      <td>2000</td>\n",
              "      <td>credit_card</td>\n",
              "      <td>2017-03-07 4:00:00</td>\n",
              "      <td>352.0</td>\n",
              "    </tr>\n",
              "    <tr>\n",
              "      <th>2836</th>\n",
              "      <td>2836</td>\n",
              "      <td>42</td>\n",
              "      <td>607</td>\n",
              "      <td>704000</td>\n",
              "      <td>2000</td>\n",
              "      <td>credit_card</td>\n",
              "      <td>2017-03-28 4:00:00</td>\n",
              "      <td>352.0</td>\n",
              "    </tr>\n",
              "    <tr>\n",
              "      <th>2970</th>\n",
              "      <td>2970</td>\n",
              "      <td>42</td>\n",
              "      <td>607</td>\n",
              "      <td>704000</td>\n",
              "      <td>2000</td>\n",
              "      <td>credit_card</td>\n",
              "      <td>2017-03-28 4:00:00</td>\n",
              "      <td>352.0</td>\n",
              "    </tr>\n",
              "    <tr>\n",
              "      <th>3333</th>\n",
              "      <td>3333</td>\n",
              "      <td>42</td>\n",
              "      <td>607</td>\n",
              "      <td>704000</td>\n",
              "      <td>2000</td>\n",
              "      <td>credit_card</td>\n",
              "      <td>2017-03-24 4:00:00</td>\n",
              "      <td>352.0</td>\n",
              "    </tr>\n",
              "    <tr>\n",
              "      <th>4057</th>\n",
              "      <td>4057</td>\n",
              "      <td>42</td>\n",
              "      <td>607</td>\n",
              "      <td>704000</td>\n",
              "      <td>2000</td>\n",
              "      <td>credit_card</td>\n",
              "      <td>2017-03-28 4:00:00</td>\n",
              "      <td>352.0</td>\n",
              "    </tr>\n",
              "    <tr>\n",
              "      <th>4647</th>\n",
              "      <td>4647</td>\n",
              "      <td>42</td>\n",
              "      <td>607</td>\n",
              "      <td>704000</td>\n",
              "      <td>2000</td>\n",
              "      <td>credit_card</td>\n",
              "      <td>2017-03-02 4:00:00</td>\n",
              "      <td>352.0</td>\n",
              "    </tr>\n",
              "  </tbody>\n",
              "</table>\n",
              "</div>"
            ],
            "text/plain": [
              "0     order_id  shop_id  user_id  ...  payment_method          created_at  price\n",
              "16          16       42      607  ...     credit_card  2017-03-07 4:00:00  352.0\n",
              "521        521       42      607  ...     credit_card  2017-03-02 4:00:00  352.0\n",
              "1105      1105       42      607  ...     credit_card  2017-03-24 4:00:00  352.0\n",
              "2298      2298       42      607  ...     credit_card  2017-03-07 4:00:00  352.0\n",
              "2836      2836       42      607  ...     credit_card  2017-03-28 4:00:00  352.0\n",
              "2970      2970       42      607  ...     credit_card  2017-03-28 4:00:00  352.0\n",
              "3333      3333       42      607  ...     credit_card  2017-03-24 4:00:00  352.0\n",
              "4057      4057       42      607  ...     credit_card  2017-03-28 4:00:00  352.0\n",
              "4647      4647       42      607  ...     credit_card  2017-03-02 4:00:00  352.0\n",
              "\n",
              "[9 rows x 8 columns]"
            ]
          },
          "metadata": {
            "tags": []
          },
          "execution_count": 145
        }
      ]
    },
    {
      "cell_type": "markdown",
      "metadata": {
        "id": "icCgIk8FDTbC"
      },
      "source": [
        "hard to tell if these are duplicates or real double orders. The fact that they are assigned unique order ID's makes it hard to decide"
      ]
    },
    {
      "cell_type": "markdown",
      "metadata": {
        "id": "aGAEq7J_MBoY"
      },
      "source": [
        "**Looking at the other high order amounts**"
      ]
    },
    {
      "cell_type": "markdown",
      "metadata": {
        "id": "65IrC8TQa3MH"
      },
      "source": [
        "- **$51,450** order placed 16 times\n",
        "\n",
        "- **$25,725** order placed 19 times"
      ]
    },
    {
      "cell_type": "markdown",
      "metadata": {
        "id": "1mtjmEeBbIv2"
      },
      "source": [
        "**$51,450** order placed 16 times"
      ]
    },
    {
      "cell_type": "code",
      "metadata": {
        "colab": {
          "base_uri": "https://localhost:8080/",
          "height": 527
        },
        "id": "I7vjmm1bbKB0",
        "outputId": "3776b790-393b-448b-fd12-6b312571e299"
      },
      "source": [
        "filtered_out[filtered_out.order_amount==51450]"
      ],
      "execution_count": null,
      "outputs": [
        {
          "output_type": "execute_result",
          "data": {
            "text/html": [
              "<div>\n",
              "<style scoped>\n",
              "    .dataframe tbody tr th:only-of-type {\n",
              "        vertical-align: middle;\n",
              "    }\n",
              "\n",
              "    .dataframe tbody tr th {\n",
              "        vertical-align: top;\n",
              "    }\n",
              "\n",
              "    .dataframe thead th {\n",
              "        text-align: right;\n",
              "    }\n",
              "</style>\n",
              "<table border=\"1\" class=\"dataframe\">\n",
              "  <thead>\n",
              "    <tr style=\"text-align: right;\">\n",
              "      <th></th>\n",
              "      <th>order_id</th>\n",
              "      <th>shop_id</th>\n",
              "      <th>user_id</th>\n",
              "      <th>order_amount</th>\n",
              "      <th>total_items</th>\n",
              "      <th>payment_method</th>\n",
              "      <th>created_at</th>\n",
              "      <th>price</th>\n",
              "    </tr>\n",
              "  </thead>\n",
              "  <tbody>\n",
              "    <tr>\n",
              "      <th>491</th>\n",
              "      <td>491</td>\n",
              "      <td>78</td>\n",
              "      <td>936</td>\n",
              "      <td>51450</td>\n",
              "      <td>2</td>\n",
              "      <td>debit</td>\n",
              "      <td>2017-03-26 17:08:19</td>\n",
              "      <td>25725.0</td>\n",
              "    </tr>\n",
              "    <tr>\n",
              "      <th>494</th>\n",
              "      <td>494</td>\n",
              "      <td>78</td>\n",
              "      <td>983</td>\n",
              "      <td>51450</td>\n",
              "      <td>2</td>\n",
              "      <td>cash</td>\n",
              "      <td>2017-03-16 21:39:35</td>\n",
              "      <td>25725.0</td>\n",
              "    </tr>\n",
              "    <tr>\n",
              "      <th>512</th>\n",
              "      <td>512</td>\n",
              "      <td>78</td>\n",
              "      <td>967</td>\n",
              "      <td>51450</td>\n",
              "      <td>2</td>\n",
              "      <td>cash</td>\n",
              "      <td>2017-03-09 7:23:14</td>\n",
              "      <td>25725.0</td>\n",
              "    </tr>\n",
              "    <tr>\n",
              "      <th>618</th>\n",
              "      <td>618</td>\n",
              "      <td>78</td>\n",
              "      <td>760</td>\n",
              "      <td>51450</td>\n",
              "      <td>2</td>\n",
              "      <td>cash</td>\n",
              "      <td>2017-03-18 11:18:42</td>\n",
              "      <td>25725.0</td>\n",
              "    </tr>\n",
              "    <tr>\n",
              "      <th>1530</th>\n",
              "      <td>1530</td>\n",
              "      <td>78</td>\n",
              "      <td>810</td>\n",
              "      <td>51450</td>\n",
              "      <td>2</td>\n",
              "      <td>cash</td>\n",
              "      <td>2017-03-29 7:12:01</td>\n",
              "      <td>25725.0</td>\n",
              "    </tr>\n",
              "    <tr>\n",
              "      <th>2453</th>\n",
              "      <td>2453</td>\n",
              "      <td>78</td>\n",
              "      <td>709</td>\n",
              "      <td>51450</td>\n",
              "      <td>2</td>\n",
              "      <td>cash</td>\n",
              "      <td>2017-03-27 11:04:04</td>\n",
              "      <td>25725.0</td>\n",
              "    </tr>\n",
              "    <tr>\n",
              "      <th>2496</th>\n",
              "      <td>2496</td>\n",
              "      <td>78</td>\n",
              "      <td>707</td>\n",
              "      <td>51450</td>\n",
              "      <td>2</td>\n",
              "      <td>cash</td>\n",
              "      <td>2017-03-26 4:38:52</td>\n",
              "      <td>25725.0</td>\n",
              "    </tr>\n",
              "    <tr>\n",
              "      <th>2513</th>\n",
              "      <td>2513</td>\n",
              "      <td>78</td>\n",
              "      <td>935</td>\n",
              "      <td>51450</td>\n",
              "      <td>2</td>\n",
              "      <td>debit</td>\n",
              "      <td>2017-03-18 18:57:13</td>\n",
              "      <td>25725.0</td>\n",
              "    </tr>\n",
              "    <tr>\n",
              "      <th>2819</th>\n",
              "      <td>2819</td>\n",
              "      <td>78</td>\n",
              "      <td>869</td>\n",
              "      <td>51450</td>\n",
              "      <td>2</td>\n",
              "      <td>debit</td>\n",
              "      <td>2017-03-17 6:25:51</td>\n",
              "      <td>25725.0</td>\n",
              "    </tr>\n",
              "    <tr>\n",
              "      <th>2822</th>\n",
              "      <td>2822</td>\n",
              "      <td>78</td>\n",
              "      <td>814</td>\n",
              "      <td>51450</td>\n",
              "      <td>2</td>\n",
              "      <td>cash</td>\n",
              "      <td>2017-03-02 17:13:25</td>\n",
              "      <td>25725.0</td>\n",
              "    </tr>\n",
              "    <tr>\n",
              "      <th>3102</th>\n",
              "      <td>3102</td>\n",
              "      <td>78</td>\n",
              "      <td>855</td>\n",
              "      <td>51450</td>\n",
              "      <td>2</td>\n",
              "      <td>credit_card</td>\n",
              "      <td>2017-03-21 5:10:34</td>\n",
              "      <td>25725.0</td>\n",
              "    </tr>\n",
              "    <tr>\n",
              "      <th>3168</th>\n",
              "      <td>3168</td>\n",
              "      <td>78</td>\n",
              "      <td>927</td>\n",
              "      <td>51450</td>\n",
              "      <td>2</td>\n",
              "      <td>cash</td>\n",
              "      <td>2017-03-12 12:23:08</td>\n",
              "      <td>25725.0</td>\n",
              "    </tr>\n",
              "    <tr>\n",
              "      <th>3706</th>\n",
              "      <td>3706</td>\n",
              "      <td>78</td>\n",
              "      <td>828</td>\n",
              "      <td>51450</td>\n",
              "      <td>2</td>\n",
              "      <td>credit_card</td>\n",
              "      <td>2017-03-14 20:43:15</td>\n",
              "      <td>25725.0</td>\n",
              "    </tr>\n",
              "    <tr>\n",
              "      <th>4080</th>\n",
              "      <td>4080</td>\n",
              "      <td>78</td>\n",
              "      <td>946</td>\n",
              "      <td>51450</td>\n",
              "      <td>2</td>\n",
              "      <td>cash</td>\n",
              "      <td>2017-03-20 21:14:00</td>\n",
              "      <td>25725.0</td>\n",
              "    </tr>\n",
              "    <tr>\n",
              "      <th>4312</th>\n",
              "      <td>4312</td>\n",
              "      <td>78</td>\n",
              "      <td>960</td>\n",
              "      <td>51450</td>\n",
              "      <td>2</td>\n",
              "      <td>debit</td>\n",
              "      <td>2017-03-01 3:02:10</td>\n",
              "      <td>25725.0</td>\n",
              "    </tr>\n",
              "    <tr>\n",
              "      <th>4413</th>\n",
              "      <td>4413</td>\n",
              "      <td>78</td>\n",
              "      <td>756</td>\n",
              "      <td>51450</td>\n",
              "      <td>2</td>\n",
              "      <td>debit</td>\n",
              "      <td>2017-03-02 4:13:39</td>\n",
              "      <td>25725.0</td>\n",
              "    </tr>\n",
              "  </tbody>\n",
              "</table>\n",
              "</div>"
            ],
            "text/plain": [
              "0     order_id  shop_id  user_id  ...  payment_method           created_at    price\n",
              "491        491       78      936  ...           debit  2017-03-26 17:08:19  25725.0\n",
              "494        494       78      983  ...            cash  2017-03-16 21:39:35  25725.0\n",
              "512        512       78      967  ...            cash   2017-03-09 7:23:14  25725.0\n",
              "618        618       78      760  ...            cash  2017-03-18 11:18:42  25725.0\n",
              "1530      1530       78      810  ...            cash   2017-03-29 7:12:01  25725.0\n",
              "2453      2453       78      709  ...            cash  2017-03-27 11:04:04  25725.0\n",
              "2496      2496       78      707  ...            cash   2017-03-26 4:38:52  25725.0\n",
              "2513      2513       78      935  ...           debit  2017-03-18 18:57:13  25725.0\n",
              "2819      2819       78      869  ...           debit   2017-03-17 6:25:51  25725.0\n",
              "2822      2822       78      814  ...            cash  2017-03-02 17:13:25  25725.0\n",
              "3102      3102       78      855  ...     credit_card   2017-03-21 5:10:34  25725.0\n",
              "3168      3168       78      927  ...            cash  2017-03-12 12:23:08  25725.0\n",
              "3706      3706       78      828  ...     credit_card  2017-03-14 20:43:15  25725.0\n",
              "4080      4080       78      946  ...            cash  2017-03-20 21:14:00  25725.0\n",
              "4312      4312       78      960  ...           debit   2017-03-01 3:02:10  25725.0\n",
              "4413      4413       78      756  ...           debit   2017-03-02 4:13:39  25725.0\n",
              "\n",
              "[16 rows x 8 columns]"
            ]
          },
          "metadata": {
            "tags": []
          },
          "execution_count": 146
        }
      ]
    },
    {
      "cell_type": "markdown",
      "metadata": {
        "id": "fTnyhSwxba8u"
      },
      "source": [
        "**$25,725** order placed 19 times"
      ]
    },
    {
      "cell_type": "code",
      "metadata": {
        "colab": {
          "base_uri": "https://localhost:8080/",
          "height": 617
        },
        "id": "J9RK2k1WbeIN",
        "outputId": "2726ee8f-196e-40fd-aa46-6c3a75dafaf5"
      },
      "source": [
        "filtered_out[filtered_out.order_amount==25725]"
      ],
      "execution_count": null,
      "outputs": [
        {
          "output_type": "execute_result",
          "data": {
            "text/html": [
              "<div>\n",
              "<style scoped>\n",
              "    .dataframe tbody tr th:only-of-type {\n",
              "        vertical-align: middle;\n",
              "    }\n",
              "\n",
              "    .dataframe tbody tr th {\n",
              "        vertical-align: top;\n",
              "    }\n",
              "\n",
              "    .dataframe thead th {\n",
              "        text-align: right;\n",
              "    }\n",
              "</style>\n",
              "<table border=\"1\" class=\"dataframe\">\n",
              "  <thead>\n",
              "    <tr style=\"text-align: right;\">\n",
              "      <th></th>\n",
              "      <th>order_id</th>\n",
              "      <th>shop_id</th>\n",
              "      <th>user_id</th>\n",
              "      <th>order_amount</th>\n",
              "      <th>total_items</th>\n",
              "      <th>payment_method</th>\n",
              "      <th>created_at</th>\n",
              "      <th>price</th>\n",
              "    </tr>\n",
              "  </thead>\n",
              "  <tbody>\n",
              "    <tr>\n",
              "      <th>161</th>\n",
              "      <td>161</td>\n",
              "      <td>78</td>\n",
              "      <td>990</td>\n",
              "      <td>25725</td>\n",
              "      <td>1</td>\n",
              "      <td>credit_card</td>\n",
              "      <td>2017-03-12 5:56:57</td>\n",
              "      <td>25725.0</td>\n",
              "    </tr>\n",
              "    <tr>\n",
              "      <th>1057</th>\n",
              "      <td>1057</td>\n",
              "      <td>78</td>\n",
              "      <td>800</td>\n",
              "      <td>25725</td>\n",
              "      <td>1</td>\n",
              "      <td>debit</td>\n",
              "      <td>2017-03-15 10:16:45</td>\n",
              "      <td>25725.0</td>\n",
              "    </tr>\n",
              "    <tr>\n",
              "      <th>1194</th>\n",
              "      <td>1194</td>\n",
              "      <td>78</td>\n",
              "      <td>944</td>\n",
              "      <td>25725</td>\n",
              "      <td>1</td>\n",
              "      <td>debit</td>\n",
              "      <td>2017-03-16 16:38:26</td>\n",
              "      <td>25725.0</td>\n",
              "    </tr>\n",
              "    <tr>\n",
              "      <th>1205</th>\n",
              "      <td>1205</td>\n",
              "      <td>78</td>\n",
              "      <td>970</td>\n",
              "      <td>25725</td>\n",
              "      <td>1</td>\n",
              "      <td>credit_card</td>\n",
              "      <td>2017-03-17 22:32:21</td>\n",
              "      <td>25725.0</td>\n",
              "    </tr>\n",
              "    <tr>\n",
              "      <th>1385</th>\n",
              "      <td>1385</td>\n",
              "      <td>78</td>\n",
              "      <td>867</td>\n",
              "      <td>25725</td>\n",
              "      <td>1</td>\n",
              "      <td>cash</td>\n",
              "      <td>2017-03-17 16:38:06</td>\n",
              "      <td>25725.0</td>\n",
              "    </tr>\n",
              "    <tr>\n",
              "      <th>1420</th>\n",
              "      <td>1420</td>\n",
              "      <td>78</td>\n",
              "      <td>912</td>\n",
              "      <td>25725</td>\n",
              "      <td>1</td>\n",
              "      <td>cash</td>\n",
              "      <td>2017-03-30 12:23:43</td>\n",
              "      <td>25725.0</td>\n",
              "    </tr>\n",
              "    <tr>\n",
              "      <th>1453</th>\n",
              "      <td>1453</td>\n",
              "      <td>78</td>\n",
              "      <td>812</td>\n",
              "      <td>25725</td>\n",
              "      <td>1</td>\n",
              "      <td>credit_card</td>\n",
              "      <td>2017-03-17 18:09:54</td>\n",
              "      <td>25725.0</td>\n",
              "    </tr>\n",
              "    <tr>\n",
              "      <th>2271</th>\n",
              "      <td>2271</td>\n",
              "      <td>78</td>\n",
              "      <td>855</td>\n",
              "      <td>25725</td>\n",
              "      <td>1</td>\n",
              "      <td>credit_card</td>\n",
              "      <td>2017-03-14 23:58:22</td>\n",
              "      <td>25725.0</td>\n",
              "    </tr>\n",
              "    <tr>\n",
              "      <th>2549</th>\n",
              "      <td>2549</td>\n",
              "      <td>78</td>\n",
              "      <td>861</td>\n",
              "      <td>25725</td>\n",
              "      <td>1</td>\n",
              "      <td>cash</td>\n",
              "      <td>2017-03-17 19:36:00</td>\n",
              "      <td>25725.0</td>\n",
              "    </tr>\n",
              "    <tr>\n",
              "      <th>2774</th>\n",
              "      <td>2774</td>\n",
              "      <td>78</td>\n",
              "      <td>890</td>\n",
              "      <td>25725</td>\n",
              "      <td>1</td>\n",
              "      <td>cash</td>\n",
              "      <td>2017-03-26 10:36:43</td>\n",
              "      <td>25725.0</td>\n",
              "    </tr>\n",
              "    <tr>\n",
              "      <th>2923</th>\n",
              "      <td>2923</td>\n",
              "      <td>78</td>\n",
              "      <td>740</td>\n",
              "      <td>25725</td>\n",
              "      <td>1</td>\n",
              "      <td>debit</td>\n",
              "      <td>2017-03-12 20:10:58</td>\n",
              "      <td>25725.0</td>\n",
              "    </tr>\n",
              "    <tr>\n",
              "      <th>3086</th>\n",
              "      <td>3086</td>\n",
              "      <td>78</td>\n",
              "      <td>910</td>\n",
              "      <td>25725</td>\n",
              "      <td>1</td>\n",
              "      <td>cash</td>\n",
              "      <td>2017-03-26 1:59:27</td>\n",
              "      <td>25725.0</td>\n",
              "    </tr>\n",
              "    <tr>\n",
              "      <th>3152</th>\n",
              "      <td>3152</td>\n",
              "      <td>78</td>\n",
              "      <td>745</td>\n",
              "      <td>25725</td>\n",
              "      <td>1</td>\n",
              "      <td>credit_card</td>\n",
              "      <td>2017-03-18 13:13:07</td>\n",
              "      <td>25725.0</td>\n",
              "    </tr>\n",
              "    <tr>\n",
              "      <th>3441</th>\n",
              "      <td>3441</td>\n",
              "      <td>78</td>\n",
              "      <td>982</td>\n",
              "      <td>25725</td>\n",
              "      <td>1</td>\n",
              "      <td>debit</td>\n",
              "      <td>2017-03-19 19:02:54</td>\n",
              "      <td>25725.0</td>\n",
              "    </tr>\n",
              "    <tr>\n",
              "      <th>3781</th>\n",
              "      <td>3781</td>\n",
              "      <td>78</td>\n",
              "      <td>889</td>\n",
              "      <td>25725</td>\n",
              "      <td>1</td>\n",
              "      <td>cash</td>\n",
              "      <td>2017-03-11 21:14:50</td>\n",
              "      <td>25725.0</td>\n",
              "    </tr>\n",
              "    <tr>\n",
              "      <th>4041</th>\n",
              "      <td>4041</td>\n",
              "      <td>78</td>\n",
              "      <td>852</td>\n",
              "      <td>25725</td>\n",
              "      <td>1</td>\n",
              "      <td>cash</td>\n",
              "      <td>2017-03-02 14:31:12</td>\n",
              "      <td>25725.0</td>\n",
              "    </tr>\n",
              "    <tr>\n",
              "      <th>4506</th>\n",
              "      <td>4506</td>\n",
              "      <td>78</td>\n",
              "      <td>866</td>\n",
              "      <td>25725</td>\n",
              "      <td>1</td>\n",
              "      <td>debit</td>\n",
              "      <td>2017-03-22 22:06:01</td>\n",
              "      <td>25725.0</td>\n",
              "    </tr>\n",
              "    <tr>\n",
              "      <th>4585</th>\n",
              "      <td>4585</td>\n",
              "      <td>78</td>\n",
              "      <td>997</td>\n",
              "      <td>25725</td>\n",
              "      <td>1</td>\n",
              "      <td>cash</td>\n",
              "      <td>2017-03-25 21:48:44</td>\n",
              "      <td>25725.0</td>\n",
              "    </tr>\n",
              "    <tr>\n",
              "      <th>4919</th>\n",
              "      <td>4919</td>\n",
              "      <td>78</td>\n",
              "      <td>823</td>\n",
              "      <td>25725</td>\n",
              "      <td>1</td>\n",
              "      <td>cash</td>\n",
              "      <td>2017-03-15 13:26:46</td>\n",
              "      <td>25725.0</td>\n",
              "    </tr>\n",
              "  </tbody>\n",
              "</table>\n",
              "</div>"
            ],
            "text/plain": [
              "0     order_id  shop_id  user_id  ...  payment_method           created_at    price\n",
              "161        161       78      990  ...     credit_card   2017-03-12 5:56:57  25725.0\n",
              "1057      1057       78      800  ...           debit  2017-03-15 10:16:45  25725.0\n",
              "1194      1194       78      944  ...           debit  2017-03-16 16:38:26  25725.0\n",
              "1205      1205       78      970  ...     credit_card  2017-03-17 22:32:21  25725.0\n",
              "1385      1385       78      867  ...            cash  2017-03-17 16:38:06  25725.0\n",
              "1420      1420       78      912  ...            cash  2017-03-30 12:23:43  25725.0\n",
              "1453      1453       78      812  ...     credit_card  2017-03-17 18:09:54  25725.0\n",
              "2271      2271       78      855  ...     credit_card  2017-03-14 23:58:22  25725.0\n",
              "2549      2549       78      861  ...            cash  2017-03-17 19:36:00  25725.0\n",
              "2774      2774       78      890  ...            cash  2017-03-26 10:36:43  25725.0\n",
              "2923      2923       78      740  ...           debit  2017-03-12 20:10:58  25725.0\n",
              "3086      3086       78      910  ...            cash   2017-03-26 1:59:27  25725.0\n",
              "3152      3152       78      745  ...     credit_card  2017-03-18 13:13:07  25725.0\n",
              "3441      3441       78      982  ...           debit  2017-03-19 19:02:54  25725.0\n",
              "3781      3781       78      889  ...            cash  2017-03-11 21:14:50  25725.0\n",
              "4041      4041       78      852  ...            cash  2017-03-02 14:31:12  25725.0\n",
              "4506      4506       78      866  ...           debit  2017-03-22 22:06:01  25725.0\n",
              "4585      4585       78      997  ...            cash  2017-03-25 21:48:44  25725.0\n",
              "4919      4919       78      823  ...            cash  2017-03-15 13:26:46  25725.0\n",
              "\n",
              "[19 rows x 8 columns]"
            ]
          },
          "metadata": {
            "tags": []
          },
          "execution_count": 147
        }
      ]
    },
    {
      "cell_type": "markdown",
      "metadata": {
        "id": "kfYHhwS-beYX"
      },
      "source": [
        "Now we understand that these are from the same shop! the only difference is the quantity! and since 1 unit costs **$24,725** it is definitely a bulk order!\n",
        "\n",
        "**Lets create a table to analyse this further** \n",
        "\n",
        "Here the groups shop_id, order_amount\tand total_items while showing the sum and count for each order_amount.\n",
        "\n",
        "The table is sorted in descending order of order_amount"
      ]
    },
    {
      "cell_type": "code",
      "metadata": {
        "colab": {
          "base_uri": "https://localhost:8080/",
          "height": 1000
        },
        "id": "i3KL7DopcNNh",
        "outputId": "f804674a-cf6a-48f6-8aa3-84240075039d"
      },
      "source": [
        "intermediate=filtered_out.groupby([\"shop_id\",'order_amount','total_items','price'])['order_amount'].agg(['sum','count'])\n",
        "#intermediate.sort_values(by='sum', ascending=False)[:20]\n",
        "intermediate.sort_index(level=1,ascending=False)"
      ],
      "execution_count": null,
      "outputs": [
        {
          "output_type": "execute_result",
          "data": {
            "text/html": [
              "<div>\n",
              "<style scoped>\n",
              "    .dataframe tbody tr th:only-of-type {\n",
              "        vertical-align: middle;\n",
              "    }\n",
              "\n",
              "    .dataframe tbody tr th {\n",
              "        vertical-align: top;\n",
              "    }\n",
              "\n",
              "    .dataframe thead th {\n",
              "        text-align: right;\n",
              "    }\n",
              "</style>\n",
              "<table border=\"1\" class=\"dataframe\">\n",
              "  <thead>\n",
              "    <tr style=\"text-align: right;\">\n",
              "      <th></th>\n",
              "      <th></th>\n",
              "      <th></th>\n",
              "      <th></th>\n",
              "      <th>sum</th>\n",
              "      <th>count</th>\n",
              "    </tr>\n",
              "    <tr>\n",
              "      <th>shop_id</th>\n",
              "      <th>order_amount</th>\n",
              "      <th>total_items</th>\n",
              "      <th>price</th>\n",
              "      <th></th>\n",
              "      <th></th>\n",
              "    </tr>\n",
              "  </thead>\n",
              "  <tbody>\n",
              "    <tr>\n",
              "      <th>42</th>\n",
              "      <th>704000</th>\n",
              "      <th>2000</th>\n",
              "      <th>352.0</th>\n",
              "      <td>11968000</td>\n",
              "      <td>17</td>\n",
              "    </tr>\n",
              "    <tr>\n",
              "      <th rowspan=\"5\" valign=\"top\">78</th>\n",
              "      <th>154350</th>\n",
              "      <th>6</th>\n",
              "      <th>25725.0</th>\n",
              "      <td>154350</td>\n",
              "      <td>1</td>\n",
              "    </tr>\n",
              "    <tr>\n",
              "      <th>102900</th>\n",
              "      <th>4</th>\n",
              "      <th>25725.0</th>\n",
              "      <td>102900</td>\n",
              "      <td>1</td>\n",
              "    </tr>\n",
              "    <tr>\n",
              "      <th>77175</th>\n",
              "      <th>3</th>\n",
              "      <th>25725.0</th>\n",
              "      <td>694575</td>\n",
              "      <td>9</td>\n",
              "    </tr>\n",
              "    <tr>\n",
              "      <th>51450</th>\n",
              "      <th>2</th>\n",
              "      <th>25725.0</th>\n",
              "      <td>823200</td>\n",
              "      <td>16</td>\n",
              "    </tr>\n",
              "    <tr>\n",
              "      <th>25725</th>\n",
              "      <th>1</th>\n",
              "      <th>25725.0</th>\n",
              "      <td>488775</td>\n",
              "      <td>19</td>\n",
              "    </tr>\n",
              "    <tr>\n",
              "      <th rowspan=\"2\" valign=\"top\">42</th>\n",
              "      <th>1760</th>\n",
              "      <th>5</th>\n",
              "      <th>352.0</th>\n",
              "      <td>1760</td>\n",
              "      <td>1</td>\n",
              "    </tr>\n",
              "    <tr>\n",
              "      <th>1408</th>\n",
              "      <th>4</th>\n",
              "      <th>352.0</th>\n",
              "      <td>2816</td>\n",
              "      <td>2</td>\n",
              "    </tr>\n",
              "    <tr>\n",
              "      <th>43</th>\n",
              "      <th>1086</th>\n",
              "      <th>6</th>\n",
              "      <th>181.0</th>\n",
              "      <td>1086</td>\n",
              "      <td>1</td>\n",
              "    </tr>\n",
              "    <tr>\n",
              "      <th>54</th>\n",
              "      <th>1064</th>\n",
              "      <th>8</th>\n",
              "      <th>133.0</th>\n",
              "      <td>1064</td>\n",
              "      <td>1</td>\n",
              "    </tr>\n",
              "    <tr>\n",
              "      <th>42</th>\n",
              "      <th>1056</th>\n",
              "      <th>3</th>\n",
              "      <th>352.0</th>\n",
              "      <td>3168</td>\n",
              "      <td>3</td>\n",
              "    </tr>\n",
              "    <tr>\n",
              "      <th>89</th>\n",
              "      <th>980</th>\n",
              "      <th>5</th>\n",
              "      <th>196.0</th>\n",
              "      <td>980</td>\n",
              "      <td>1</td>\n",
              "    </tr>\n",
              "    <tr>\n",
              "      <th>50</th>\n",
              "      <th>965</th>\n",
              "      <th>5</th>\n",
              "      <th>193.0</th>\n",
              "      <td>965</td>\n",
              "      <td>1</td>\n",
              "    </tr>\n",
              "    <tr>\n",
              "      <th>91</th>\n",
              "      <th>960</th>\n",
              "      <th>6</th>\n",
              "      <th>160.0</th>\n",
              "      <td>960</td>\n",
              "      <td>1</td>\n",
              "    </tr>\n",
              "    <tr>\n",
              "      <th>13</th>\n",
              "      <th>960</th>\n",
              "      <th>6</th>\n",
              "      <th>160.0</th>\n",
              "      <td>960</td>\n",
              "      <td>1</td>\n",
              "    </tr>\n",
              "    <tr>\n",
              "      <th>61</th>\n",
              "      <th>948</th>\n",
              "      <th>6</th>\n",
              "      <th>158.0</th>\n",
              "      <td>948</td>\n",
              "      <td>1</td>\n",
              "    </tr>\n",
              "    <tr>\n",
              "      <th>51</th>\n",
              "      <th>935</th>\n",
              "      <th>5</th>\n",
              "      <th>187.0</th>\n",
              "      <td>935</td>\n",
              "      <td>1</td>\n",
              "    </tr>\n",
              "    <tr>\n",
              "      <th>6</th>\n",
              "      <th>935</th>\n",
              "      <th>5</th>\n",
              "      <th>187.0</th>\n",
              "      <td>1870</td>\n",
              "      <td>2</td>\n",
              "    </tr>\n",
              "    <tr>\n",
              "      <th>11</th>\n",
              "      <th>920</th>\n",
              "      <th>5</th>\n",
              "      <th>184.0</th>\n",
              "      <td>920</td>\n",
              "      <td>1</td>\n",
              "    </tr>\n",
              "    <tr>\n",
              "      <th>90</th>\n",
              "      <th>890</th>\n",
              "      <th>5</th>\n",
              "      <th>178.0</th>\n",
              "      <td>890</td>\n",
              "      <td>1</td>\n",
              "    </tr>\n",
              "    <tr>\n",
              "      <th>82</th>\n",
              "      <th>885</th>\n",
              "      <th>5</th>\n",
              "      <th>177.0</th>\n",
              "      <td>885</td>\n",
              "      <td>1</td>\n",
              "    </tr>\n",
              "    <tr>\n",
              "      <th>60</th>\n",
              "      <th>885</th>\n",
              "      <th>5</th>\n",
              "      <th>177.0</th>\n",
              "      <td>885</td>\n",
              "      <td>1</td>\n",
              "    </tr>\n",
              "    <tr>\n",
              "      <th>88</th>\n",
              "      <th>880</th>\n",
              "      <th>5</th>\n",
              "      <th>176.0</th>\n",
              "      <td>880</td>\n",
              "      <td>1</td>\n",
              "    </tr>\n",
              "    <tr>\n",
              "      <th>26</th>\n",
              "      <th>880</th>\n",
              "      <th>5</th>\n",
              "      <th>176.0</th>\n",
              "      <td>1760</td>\n",
              "      <td>2</td>\n",
              "    </tr>\n",
              "    <tr>\n",
              "      <th>70</th>\n",
              "      <th>865</th>\n",
              "      <th>5</th>\n",
              "      <th>173.0</th>\n",
              "      <td>865</td>\n",
              "      <td>1</td>\n",
              "    </tr>\n",
              "    <tr>\n",
              "      <th>33</th>\n",
              "      <th>865</th>\n",
              "      <th>5</th>\n",
              "      <th>173.0</th>\n",
              "      <td>865</td>\n",
              "      <td>1</td>\n",
              "    </tr>\n",
              "    <tr>\n",
              "      <th>27</th>\n",
              "      <th>845</th>\n",
              "      <th>5</th>\n",
              "      <th>169.0</th>\n",
              "      <td>845</td>\n",
              "      <td>1</td>\n",
              "    </tr>\n",
              "    <tr>\n",
              "      <th>46</th>\n",
              "      <th>830</th>\n",
              "      <th>5</th>\n",
              "      <th>166.0</th>\n",
              "      <td>2490</td>\n",
              "      <td>3</td>\n",
              "    </tr>\n",
              "    <tr>\n",
              "      <th>68</th>\n",
              "      <th>816</th>\n",
              "      <th>6</th>\n",
              "      <th>136.0</th>\n",
              "      <td>816</td>\n",
              "      <td>1</td>\n",
              "    </tr>\n",
              "    <tr>\n",
              "      <th>29</th>\n",
              "      <th>815</th>\n",
              "      <th>5</th>\n",
              "      <th>163.0</th>\n",
              "      <td>815</td>\n",
              "      <td>1</td>\n",
              "    </tr>\n",
              "    <tr>\n",
              "      <th>19</th>\n",
              "      <th>815</th>\n",
              "      <th>5</th>\n",
              "      <th>163.0</th>\n",
              "      <td>815</td>\n",
              "      <td>1</td>\n",
              "    </tr>\n",
              "    <tr>\n",
              "      <th>97</th>\n",
              "      <th>810</th>\n",
              "      <th>5</th>\n",
              "      <th>162.0</th>\n",
              "      <td>810</td>\n",
              "      <td>1</td>\n",
              "    </tr>\n",
              "    <tr>\n",
              "      <th>66</th>\n",
              "      <th>805</th>\n",
              "      <th>5</th>\n",
              "      <th>161.0</th>\n",
              "      <td>1610</td>\n",
              "      <td>2</td>\n",
              "    </tr>\n",
              "    <tr>\n",
              "      <th>12</th>\n",
              "      <th>804</th>\n",
              "      <th>4</th>\n",
              "      <th>201.0</th>\n",
              "      <td>1608</td>\n",
              "      <td>2</td>\n",
              "    </tr>\n",
              "    <tr>\n",
              "      <th>91</th>\n",
              "      <th>800</th>\n",
              "      <th>5</th>\n",
              "      <th>160.0</th>\n",
              "      <td>2400</td>\n",
              "      <td>3</td>\n",
              "    </tr>\n",
              "    <tr>\n",
              "      <th>61</th>\n",
              "      <th>790</th>\n",
              "      <th>5</th>\n",
              "      <th>158.0</th>\n",
              "      <td>1580</td>\n",
              "      <td>2</td>\n",
              "    </tr>\n",
              "    <tr>\n",
              "      <th>67</th>\n",
              "      <th>786</th>\n",
              "      <th>6</th>\n",
              "      <th>131.0</th>\n",
              "      <td>786</td>\n",
              "      <td>1</td>\n",
              "    </tr>\n",
              "    <tr>\n",
              "      <th>89</th>\n",
              "      <th>784</th>\n",
              "      <th>4</th>\n",
              "      <th>196.0</th>\n",
              "      <td>1568</td>\n",
              "      <td>2</td>\n",
              "    </tr>\n",
              "    <tr>\n",
              "      <th>99</th>\n",
              "      <th>780</th>\n",
              "      <th>4</th>\n",
              "      <th>195.0</th>\n",
              "      <td>1560</td>\n",
              "      <td>2</td>\n",
              "    </tr>\n",
              "    <tr>\n",
              "      <th>86</th>\n",
              "      <th>780</th>\n",
              "      <th>6</th>\n",
              "      <th>130.0</th>\n",
              "      <td>780</td>\n",
              "      <td>1</td>\n",
              "    </tr>\n",
              "    <tr>\n",
              "      <th>23</th>\n",
              "      <th>780</th>\n",
              "      <th>5</th>\n",
              "      <th>156.0</th>\n",
              "      <td>780</td>\n",
              "      <td>1</td>\n",
              "    </tr>\n",
              "    <tr>\n",
              "      <th>18</th>\n",
              "      <th>780</th>\n",
              "      <th>5</th>\n",
              "      <th>156.0</th>\n",
              "      <td>2340</td>\n",
              "      <td>3</td>\n",
              "    </tr>\n",
              "    <tr>\n",
              "      <th>16</th>\n",
              "      <th>780</th>\n",
              "      <th>5</th>\n",
              "      <th>156.0</th>\n",
              "      <td>780</td>\n",
              "      <td>1</td>\n",
              "    </tr>\n",
              "    <tr>\n",
              "      <th>83</th>\n",
              "      <th>774</th>\n",
              "      <th>6</th>\n",
              "      <th>129.0</th>\n",
              "      <td>774</td>\n",
              "      <td>1</td>\n",
              "    </tr>\n",
              "    <tr>\n",
              "      <th>50</th>\n",
              "      <th>772</th>\n",
              "      <th>4</th>\n",
              "      <th>193.0</th>\n",
              "      <td>1544</td>\n",
              "      <td>2</td>\n",
              "    </tr>\n",
              "    <tr>\n",
              "      <th>96</th>\n",
              "      <th>765</th>\n",
              "      <th>5</th>\n",
              "      <th>153.0</th>\n",
              "      <td>1530</td>\n",
              "      <td>2</td>\n",
              "    </tr>\n",
              "    <tr>\n",
              "      <th>84</th>\n",
              "      <th>765</th>\n",
              "      <th>5</th>\n",
              "      <th>153.0</th>\n",
              "      <td>765</td>\n",
              "      <td>1</td>\n",
              "    </tr>\n",
              "    <tr>\n",
              "      <th>74</th>\n",
              "      <th>765</th>\n",
              "      <th>5</th>\n",
              "      <th>153.0</th>\n",
              "      <td>765</td>\n",
              "      <td>1</td>\n",
              "    </tr>\n",
              "    <tr>\n",
              "      <th>15</th>\n",
              "      <th>765</th>\n",
              "      <th>5</th>\n",
              "      <th>153.0</th>\n",
              "      <td>765</td>\n",
              "      <td>1</td>\n",
              "    </tr>\n",
              "    <tr>\n",
              "      <th>38</th>\n",
              "      <th>760</th>\n",
              "      <th>4</th>\n",
              "      <th>190.0</th>\n",
              "      <td>3040</td>\n",
              "      <td>4</td>\n",
              "    </tr>\n",
              "    <tr>\n",
              "      <th>51</th>\n",
              "      <th>748</th>\n",
              "      <th>4</th>\n",
              "      <th>187.0</th>\n",
              "      <td>1496</td>\n",
              "      <td>2</td>\n",
              "    </tr>\n",
              "    <tr>\n",
              "      <th>6</th>\n",
              "      <th>748</th>\n",
              "      <th>4</th>\n",
              "      <th>187.0</th>\n",
              "      <td>2244</td>\n",
              "      <td>3</td>\n",
              "    </tr>\n",
              "    <tr>\n",
              "      <th>87</th>\n",
              "      <th>745</th>\n",
              "      <th>5</th>\n",
              "      <th>149.0</th>\n",
              "      <td>1490</td>\n",
              "      <td>2</td>\n",
              "    </tr>\n",
              "    <tr>\n",
              "      <th>10</th>\n",
              "      <th>740</th>\n",
              "      <th>5</th>\n",
              "      <th>148.0</th>\n",
              "      <td>740</td>\n",
              "      <td>1</td>\n",
              "    </tr>\n",
              "    <tr>\n",
              "      <th>11</th>\n",
              "      <th>736</th>\n",
              "      <th>4</th>\n",
              "      <th>184.0</th>\n",
              "      <td>2944</td>\n",
              "      <td>4</td>\n",
              "    </tr>\n",
              "    <tr>\n",
              "      <th>57</th>\n",
              "      <th>735</th>\n",
              "      <th>5</th>\n",
              "      <th>147.0</th>\n",
              "      <td>735</td>\n",
              "      <td>1</td>\n",
              "    </tr>\n",
              "  </tbody>\n",
              "</table>\n",
              "</div>"
            ],
            "text/plain": [
              "                                               sum  count\n",
              "shop_id order_amount total_items price                   \n",
              "42      704000       2000        352.0    11968000     17\n",
              "78      154350       6           25725.0    154350      1\n",
              "        102900       4           25725.0    102900      1\n",
              "        77175        3           25725.0    694575      9\n",
              "        51450        2           25725.0    823200     16\n",
              "        25725        1           25725.0    488775     19\n",
              "42      1760         5           352.0        1760      1\n",
              "        1408         4           352.0        2816      2\n",
              "43      1086         6           181.0        1086      1\n",
              "54      1064         8           133.0        1064      1\n",
              "42      1056         3           352.0        3168      3\n",
              "89      980          5           196.0         980      1\n",
              "50      965          5           193.0         965      1\n",
              "91      960          6           160.0         960      1\n",
              "13      960          6           160.0         960      1\n",
              "61      948          6           158.0         948      1\n",
              "51      935          5           187.0         935      1\n",
              "6       935          5           187.0        1870      2\n",
              "11      920          5           184.0         920      1\n",
              "90      890          5           178.0         890      1\n",
              "82      885          5           177.0         885      1\n",
              "60      885          5           177.0         885      1\n",
              "88      880          5           176.0         880      1\n",
              "26      880          5           176.0        1760      2\n",
              "70      865          5           173.0         865      1\n",
              "33      865          5           173.0         865      1\n",
              "27      845          5           169.0         845      1\n",
              "46      830          5           166.0        2490      3\n",
              "68      816          6           136.0         816      1\n",
              "29      815          5           163.0         815      1\n",
              "19      815          5           163.0         815      1\n",
              "97      810          5           162.0         810      1\n",
              "66      805          5           161.0        1610      2\n",
              "12      804          4           201.0        1608      2\n",
              "91      800          5           160.0        2400      3\n",
              "61      790          5           158.0        1580      2\n",
              "67      786          6           131.0         786      1\n",
              "89      784          4           196.0        1568      2\n",
              "99      780          4           195.0        1560      2\n",
              "86      780          6           130.0         780      1\n",
              "23      780          5           156.0         780      1\n",
              "18      780          5           156.0        2340      3\n",
              "16      780          5           156.0         780      1\n",
              "83      774          6           129.0         774      1\n",
              "50      772          4           193.0        1544      2\n",
              "96      765          5           153.0        1530      2\n",
              "84      765          5           153.0         765      1\n",
              "74      765          5           153.0         765      1\n",
              "15      765          5           153.0         765      1\n",
              "38      760          4           190.0        3040      4\n",
              "51      748          4           187.0        1496      2\n",
              "6       748          4           187.0        2244      3\n",
              "87      745          5           149.0        1490      2\n",
              "10      740          5           148.0         740      1\n",
              "11      736          4           184.0        2944      4\n",
              "57      735          5           147.0         735      1"
            ]
          },
          "metadata": {
            "tags": []
          },
          "execution_count": 148
        }
      ]
    },
    {
      "cell_type": "markdown",
      "metadata": {
        "id": "rvl_bkDqMISm"
      },
      "source": [
        "This table is very discriptive as it tells us which shops are recieving the largest value orders and overall revenue. From this it is evident that **store 42 & 78** appear to be **big comercial suppliers.**\n",
        "\n",
        "scrolling down to the bottom of the list we still see high order_amoount and total_items values which are characteristic of comercial bulk ordering and good to filter out!"
      ]
    },
    {
      "cell_type": "markdown",
      "metadata": {
        "id": "1P0EYkmLMX8i"
      },
      "source": [
        "***which shops/customers are recieveing/spending the most money over the 30 day period***"
      ]
    },
    {
      "cell_type": "code",
      "metadata": {
        "colab": {
          "base_uri": "https://localhost:8080/",
          "height": 227
        },
        "id": "5JGfQNs4MWmF",
        "outputId": "d3cf6a5c-b72f-41e9-cda5-05322adb7c15"
      },
      "source": [
        "#shops\n",
        "intermediate=filtered_out.groupby(['shop_id']).agg({'order_amount':'sum'})\n",
        "intermediate.sort_values(by='order_amount',ascending=False)[:5]"
      ],
      "execution_count": null,
      "outputs": [
        {
          "output_type": "execute_result",
          "data": {
            "text/html": [
              "<div>\n",
              "<style scoped>\n",
              "    .dataframe tbody tr th:only-of-type {\n",
              "        vertical-align: middle;\n",
              "    }\n",
              "\n",
              "    .dataframe tbody tr th {\n",
              "        vertical-align: top;\n",
              "    }\n",
              "\n",
              "    .dataframe thead th {\n",
              "        text-align: right;\n",
              "    }\n",
              "</style>\n",
              "<table border=\"1\" class=\"dataframe\">\n",
              "  <thead>\n",
              "    <tr style=\"text-align: right;\">\n",
              "      <th></th>\n",
              "      <th>order_amount</th>\n",
              "    </tr>\n",
              "    <tr>\n",
              "      <th>shop_id</th>\n",
              "      <th></th>\n",
              "    </tr>\n",
              "  </thead>\n",
              "  <tbody>\n",
              "    <tr>\n",
              "      <th>42</th>\n",
              "      <td>11975744</td>\n",
              "    </tr>\n",
              "    <tr>\n",
              "      <th>78</th>\n",
              "      <td>2263800</td>\n",
              "    </tr>\n",
              "    <tr>\n",
              "      <th>6</th>\n",
              "      <td>4114</td>\n",
              "    </tr>\n",
              "    <tr>\n",
              "      <th>11</th>\n",
              "      <td>3864</td>\n",
              "    </tr>\n",
              "    <tr>\n",
              "      <th>91</th>\n",
              "      <td>3360</td>\n",
              "    </tr>\n",
              "  </tbody>\n",
              "</table>\n",
              "</div>"
            ],
            "text/plain": [
              "         order_amount\n",
              "shop_id              \n",
              "42           11975744\n",
              "78            2263800\n",
              "6                4114\n",
              "11               3864\n",
              "91               3360"
            ]
          },
          "metadata": {
            "tags": []
          },
          "execution_count": 149
        }
      ]
    },
    {
      "cell_type": "code",
      "metadata": {
        "colab": {
          "base_uri": "https://localhost:8080/",
          "height": 377
        },
        "id": "p3wf1yvCZtpe",
        "outputId": "061ae030-3794-4076-b0cb-031f10171cc9"
      },
      "source": [
        "#customers\n",
        "intermediate=filtered_out.groupby(['user_id']).agg({'order_amount':'sum'})\n",
        "intermediate.sort_values(by='order_amount',ascending=False)[:10]"
      ],
      "execution_count": null,
      "outputs": [
        {
          "output_type": "execute_result",
          "data": {
            "text/html": [
              "<div>\n",
              "<style scoped>\n",
              "    .dataframe tbody tr th:only-of-type {\n",
              "        vertical-align: middle;\n",
              "    }\n",
              "\n",
              "    .dataframe tbody tr th {\n",
              "        vertical-align: top;\n",
              "    }\n",
              "\n",
              "    .dataframe thead th {\n",
              "        text-align: right;\n",
              "    }\n",
              "</style>\n",
              "<table border=\"1\" class=\"dataframe\">\n",
              "  <thead>\n",
              "    <tr style=\"text-align: right;\">\n",
              "      <th></th>\n",
              "      <th>order_amount</th>\n",
              "    </tr>\n",
              "    <tr>\n",
              "      <th>user_id</th>\n",
              "      <th></th>\n",
              "    </tr>\n",
              "  </thead>\n",
              "  <tbody>\n",
              "    <tr>\n",
              "      <th>607</th>\n",
              "      <td>11968000</td>\n",
              "    </tr>\n",
              "    <tr>\n",
              "      <th>878</th>\n",
              "      <td>154350</td>\n",
              "    </tr>\n",
              "    <tr>\n",
              "      <th>834</th>\n",
              "      <td>102900</td>\n",
              "    </tr>\n",
              "    <tr>\n",
              "      <th>818</th>\n",
              "      <td>77990</td>\n",
              "    </tr>\n",
              "    <tr>\n",
              "      <th>915</th>\n",
              "      <td>77175</td>\n",
              "    </tr>\n",
              "    <tr>\n",
              "      <th>928</th>\n",
              "      <td>77175</td>\n",
              "    </tr>\n",
              "    <tr>\n",
              "      <th>817</th>\n",
              "      <td>77175</td>\n",
              "    </tr>\n",
              "    <tr>\n",
              "      <th>855</th>\n",
              "      <td>77175</td>\n",
              "    </tr>\n",
              "    <tr>\n",
              "      <th>787</th>\n",
              "      <td>77175</td>\n",
              "    </tr>\n",
              "    <tr>\n",
              "      <th>775</th>\n",
              "      <td>77175</td>\n",
              "    </tr>\n",
              "  </tbody>\n",
              "</table>\n",
              "</div>"
            ],
            "text/plain": [
              "         order_amount\n",
              "user_id              \n",
              "607          11968000\n",
              "878            154350\n",
              "834            102900\n",
              "818             77990\n",
              "915             77175\n",
              "928             77175\n",
              "817             77175\n",
              "855             77175\n",
              "787             77175\n",
              "775             77175"
            ]
          },
          "metadata": {
            "tags": []
          },
          "execution_count": 150
        }
      ]
    },
    {
      "cell_type": "code",
      "metadata": {
        "colab": {
          "base_uri": "https://localhost:8080/",
          "height": 353
        },
        "id": "5PUhdOYzBRPd",
        "outputId": "25c54f40-616f-4383-f91d-ccb4b2b8aaf7"
      },
      "source": [
        "plt.figure(figsize=(20,5))\n",
        "sns.boxplot(filtered_out.order_amount);"
      ],
      "execution_count": null,
      "outputs": [
        {
          "output_type": "stream",
          "text": [
            "/usr/local/lib/python3.7/dist-packages/seaborn/_decorators.py:43: FutureWarning: Pass the following variable as a keyword arg: x. From version 0.12, the only valid positional argument will be `data`, and passing other arguments without an explicit keyword will result in an error or misinterpretation.\n",
            "  FutureWarning\n"
          ],
          "name": "stderr"
        },
        {
          "output_type": "display_data",
          "data": {
            "image/png": "[encoded data removed]",
            "text/plain": [
              "<Figure size 1440x360 with 1 Axes>"
            ]
          },
          "metadata": {
            "tags": [],
            "needs_background": "light"
          }
        }
      ]
    },
    {
      "cell_type": "code",
      "metadata": {
        "colab": {
          "base_uri": "https://localhost:8080/",
          "height": 264
        },
        "id": "w2_uY9WEmwfb",
        "outputId": "4ec3cc0d-d546-491c-fdc9-1f88dc307b64"
      },
      "source": [
        "filtered_out.order_amount.hist();"
      ],
      "execution_count": null,
      "outputs": [
        {
          "output_type": "display_data",
          "data": {
            "image/png": "[encoded data removed]",
            "text/plain": [
              "<Figure size 432x288 with 1 Axes>"
            ]
          },
          "metadata": {
            "tags": [],
            "needs_background": "light"
          }
        }
      ]
    },
    {
      "cell_type": "code",
      "metadata": {
        "colab": {
          "base_uri": "https://localhost:8080/"
        },
        "id": "GkMpKcuL_JG6",
        "outputId": "aef47128-83d2-47fb-cdca-030cfbb61958"
      },
      "source": [
        "filtered_out.order_amount.describe()"
      ],
      "execution_count": null,
      "outputs": [
        {
          "output_type": "execute_result",
          "data": {
            "text/plain": [
              "count       141.000000\n",
              "mean     101407.638298\n",
              "std      225491.524131\n",
              "min         735.000000\n",
              "25%         786.000000\n",
              "50%        1056.000000\n",
              "75%       51450.000000\n",
              "max      704000.000000\n",
              "Name: order_amount, dtype: float64"
            ]
          },
          "metadata": {
            "tags": []
          },
          "execution_count": 153
        }
      ]
    },
    {
      "cell_type": "markdown",
      "metadata": {
        "id": "SfLCKbLwv6sB"
      },
      "source": [
        "All in all, as a stand alone distribution, it is not a good one. with just 141 data points, a mean and median planets apart and extremly skewed distribution, it does not make sense to use pull and use descriptive statistics from this outlier or filtered out data. "
      ]
    },
    {
      "cell_type": "markdown",
      "metadata": {
        "id": "c3cWerEHv5Lc"
      },
      "source": [
        "#### Filtered In Data (Suspected Retail Buyers)"
      ]
    },
    {
      "cell_type": "markdown",
      "metadata": {
        "id": "0egen3WIt_OM"
      },
      "source": [
        "**Looking at the filtered in data points**"
      ]
    },
    {
      "cell_type": "code",
      "metadata": {
        "colab": {
          "base_uri": "https://localhost:8080/",
          "height": 406
        },
        "id": "ZY9qxPgnuOKO",
        "outputId": "47e75b1a-bfc9-4d45-c710-17ed5e901317"
      },
      "source": [
        "filtered_in"
      ],
      "execution_count": null,
      "outputs": [
        {
          "output_type": "execute_result",
          "data": {
            "text/html": [
              "<div>\n",
              "<style scoped>\n",
              "    .dataframe tbody tr th:only-of-type {\n",
              "        vertical-align: middle;\n",
              "    }\n",
              "\n",
              "    .dataframe tbody tr th {\n",
              "        vertical-align: top;\n",
              "    }\n",
              "\n",
              "    .dataframe thead th {\n",
              "        text-align: right;\n",
              "    }\n",
              "</style>\n",
              "<table border=\"1\" class=\"dataframe\">\n",
              "  <thead>\n",
              "    <tr style=\"text-align: right;\">\n",
              "      <th></th>\n",
              "      <th>order_id</th>\n",
              "      <th>shop_id</th>\n",
              "      <th>user_id</th>\n",
              "      <th>order_amount</th>\n",
              "      <th>total_items</th>\n",
              "      <th>payment_method</th>\n",
              "      <th>created_at</th>\n",
              "      <th>price</th>\n",
              "    </tr>\n",
              "  </thead>\n",
              "  <tbody>\n",
              "    <tr>\n",
              "      <th>1</th>\n",
              "      <td>1</td>\n",
              "      <td>53</td>\n",
              "      <td>746</td>\n",
              "      <td>224</td>\n",
              "      <td>2</td>\n",
              "      <td>cash</td>\n",
              "      <td>2017-03-13 12:36:56</td>\n",
              "      <td>112.0</td>\n",
              "    </tr>\n",
              "    <tr>\n",
              "      <th>2</th>\n",
              "      <td>2</td>\n",
              "      <td>92</td>\n",
              "      <td>925</td>\n",
              "      <td>90</td>\n",
              "      <td>1</td>\n",
              "      <td>cash</td>\n",
              "      <td>2017-03-03 17:38:52</td>\n",
              "      <td>90.0</td>\n",
              "    </tr>\n",
              "    <tr>\n",
              "      <th>3</th>\n",
              "      <td>3</td>\n",
              "      <td>44</td>\n",
              "      <td>861</td>\n",
              "      <td>144</td>\n",
              "      <td>1</td>\n",
              "      <td>cash</td>\n",
              "      <td>2017-03-14 4:23:56</td>\n",
              "      <td>144.0</td>\n",
              "    </tr>\n",
              "    <tr>\n",
              "      <th>4</th>\n",
              "      <td>4</td>\n",
              "      <td>18</td>\n",
              "      <td>935</td>\n",
              "      <td>156</td>\n",
              "      <td>1</td>\n",
              "      <td>credit_card</td>\n",
              "      <td>2017-03-26 12:43:37</td>\n",
              "      <td>156.0</td>\n",
              "    </tr>\n",
              "    <tr>\n",
              "      <th>5</th>\n",
              "      <td>5</td>\n",
              "      <td>18</td>\n",
              "      <td>883</td>\n",
              "      <td>156</td>\n",
              "      <td>1</td>\n",
              "      <td>credit_card</td>\n",
              "      <td>2017-03-01 4:35:11</td>\n",
              "      <td>156.0</td>\n",
              "    </tr>\n",
              "    <tr>\n",
              "      <th>...</th>\n",
              "      <td>...</td>\n",
              "      <td>...</td>\n",
              "      <td>...</td>\n",
              "      <td>...</td>\n",
              "      <td>...</td>\n",
              "      <td>...</td>\n",
              "      <td>...</td>\n",
              "      <td>...</td>\n",
              "    </tr>\n",
              "    <tr>\n",
              "      <th>4996</th>\n",
              "      <td>4996</td>\n",
              "      <td>73</td>\n",
              "      <td>993</td>\n",
              "      <td>330</td>\n",
              "      <td>2</td>\n",
              "      <td>debit</td>\n",
              "      <td>2017-03-30 13:47:17</td>\n",
              "      <td>165.0</td>\n",
              "    </tr>\n",
              "    <tr>\n",
              "      <th>4997</th>\n",
              "      <td>4997</td>\n",
              "      <td>48</td>\n",
              "      <td>789</td>\n",
              "      <td>234</td>\n",
              "      <td>2</td>\n",
              "      <td>cash</td>\n",
              "      <td>2017-03-16 20:36:16</td>\n",
              "      <td>117.0</td>\n",
              "    </tr>\n",
              "    <tr>\n",
              "      <th>4998</th>\n",
              "      <td>4998</td>\n",
              "      <td>56</td>\n",
              "      <td>867</td>\n",
              "      <td>351</td>\n",
              "      <td>3</td>\n",
              "      <td>cash</td>\n",
              "      <td>2017-03-19 5:42:42</td>\n",
              "      <td>117.0</td>\n",
              "    </tr>\n",
              "    <tr>\n",
              "      <th>4999</th>\n",
              "      <td>4999</td>\n",
              "      <td>60</td>\n",
              "      <td>825</td>\n",
              "      <td>354</td>\n",
              "      <td>2</td>\n",
              "      <td>credit_card</td>\n",
              "      <td>2017-03-16 14:51:18</td>\n",
              "      <td>177.0</td>\n",
              "    </tr>\n",
              "    <tr>\n",
              "      <th>5000</th>\n",
              "      <td>5000</td>\n",
              "      <td>44</td>\n",
              "      <td>734</td>\n",
              "      <td>288</td>\n",
              "      <td>2</td>\n",
              "      <td>debit</td>\n",
              "      <td>2017-03-18 15:48:18</td>\n",
              "      <td>144.0</td>\n",
              "    </tr>\n",
              "  </tbody>\n",
              "</table>\n",
              "<p>4859 rows × 8 columns</p>\n",
              "</div>"
            ],
            "text/plain": [
              "0     order_id  shop_id  user_id  ...  payment_method           created_at  price\n",
              "1            1       53      746  ...            cash  2017-03-13 12:36:56  112.0\n",
              "2            2       92      925  ...            cash  2017-03-03 17:38:52   90.0\n",
              "3            3       44      861  ...            cash   2017-03-14 4:23:56  144.0\n",
              "4            4       18      935  ...     credit_card  2017-03-26 12:43:37  156.0\n",
              "5            5       18      883  ...     credit_card   2017-03-01 4:35:11  156.0\n",
              "...        ...      ...      ...  ...             ...                  ...    ...\n",
              "4996      4996       73      993  ...           debit  2017-03-30 13:47:17  165.0\n",
              "4997      4997       48      789  ...            cash  2017-03-16 20:36:16  117.0\n",
              "4998      4998       56      867  ...            cash   2017-03-19 5:42:42  117.0\n",
              "4999      4999       60      825  ...     credit_card  2017-03-16 14:51:18  177.0\n",
              "5000      5000       44      734  ...           debit  2017-03-18 15:48:18  144.0\n",
              "\n",
              "[4859 rows x 8 columns]"
            ]
          },
          "metadata": {
            "tags": []
          },
          "execution_count": 154
        }
      ]
    },
    {
      "cell_type": "code",
      "metadata": {
        "colab": {
          "base_uri": "https://localhost:8080/",
          "height": 436
        },
        "id": "1bLM_9UL606q",
        "outputId": "0ff172d3-cbd2-4fde-b049-e16ebd62b287"
      },
      "source": [
        "intermediate=filtered_in.groupby([\"shop_id\",'order_amount','total_items'])['order_amount'].agg(['sum','count'])\n",
        "#intermediate.sort_values(by='sum', ascending=False)[:20]\n",
        "intermediate.sort_index(level=1,ascending=False)"
      ],
      "execution_count": null,
      "outputs": [
        {
          "output_type": "execute_result",
          "data": {
            "text/html": [
              "<div>\n",
              "<style scoped>\n",
              "    .dataframe tbody tr th:only-of-type {\n",
              "        vertical-align: middle;\n",
              "    }\n",
              "\n",
              "    .dataframe tbody tr th {\n",
              "        vertical-align: top;\n",
              "    }\n",
              "\n",
              "    .dataframe thead th {\n",
              "        text-align: right;\n",
              "    }\n",
              "</style>\n",
              "<table border=\"1\" class=\"dataframe\">\n",
              "  <thead>\n",
              "    <tr style=\"text-align: right;\">\n",
              "      <th></th>\n",
              "      <th></th>\n",
              "      <th></th>\n",
              "      <th>sum</th>\n",
              "      <th>count</th>\n",
              "    </tr>\n",
              "    <tr>\n",
              "      <th>shop_id</th>\n",
              "      <th>order_amount</th>\n",
              "      <th>total_items</th>\n",
              "      <th></th>\n",
              "      <th></th>\n",
              "    </tr>\n",
              "  </thead>\n",
              "  <tbody>\n",
              "    <tr>\n",
              "      <th>52</th>\n",
              "      <th>730</th>\n",
              "      <th>5</th>\n",
              "      <td>730</td>\n",
              "      <td>1</td>\n",
              "    </tr>\n",
              "    <tr>\n",
              "      <th>47</th>\n",
              "      <th>725</th>\n",
              "      <th>5</th>\n",
              "      <td>725</td>\n",
              "      <td>1</td>\n",
              "    </tr>\n",
              "    <tr>\n",
              "      <th>79</th>\n",
              "      <th>724</th>\n",
              "      <th>4</th>\n",
              "      <td>724</td>\n",
              "      <td>1</td>\n",
              "    </tr>\n",
              "    <tr>\n",
              "      <th>43</th>\n",
              "      <th>724</th>\n",
              "      <th>4</th>\n",
              "      <td>1448</td>\n",
              "      <td>2</td>\n",
              "    </tr>\n",
              "    <tr>\n",
              "      <th>90</th>\n",
              "      <th>712</th>\n",
              "      <th>4</th>\n",
              "      <td>4272</td>\n",
              "      <td>6</td>\n",
              "    </tr>\n",
              "    <tr>\n",
              "      <th>...</th>\n",
              "      <th>...</th>\n",
              "      <th>...</th>\n",
              "      <td>...</td>\n",
              "      <td>...</td>\n",
              "    </tr>\n",
              "    <tr>\n",
              "      <th>7</th>\n",
              "      <th>112</th>\n",
              "      <th>1</th>\n",
              "      <td>2576</td>\n",
              "      <td>23</td>\n",
              "    </tr>\n",
              "    <tr>\n",
              "      <th>100</th>\n",
              "      <th>111</th>\n",
              "      <th>1</th>\n",
              "      <td>1776</td>\n",
              "      <td>16</td>\n",
              "    </tr>\n",
              "    <tr>\n",
              "      <th>32</th>\n",
              "      <th>101</th>\n",
              "      <th>1</th>\n",
              "      <td>1515</td>\n",
              "      <td>15</td>\n",
              "    </tr>\n",
              "    <tr>\n",
              "      <th>2</th>\n",
              "      <th>94</th>\n",
              "      <th>1</th>\n",
              "      <td>2350</td>\n",
              "      <td>25</td>\n",
              "    </tr>\n",
              "    <tr>\n",
              "      <th>92</th>\n",
              "      <th>90</th>\n",
              "      <th>1</th>\n",
              "      <td>1620</td>\n",
              "      <td>18</td>\n",
              "    </tr>\n",
              "  </tbody>\n",
              "</table>\n",
              "<p>401 rows × 2 columns</p>\n",
              "</div>"
            ],
            "text/plain": [
              "                                   sum  count\n",
              "shop_id order_amount total_items             \n",
              "52      730          5             730      1\n",
              "47      725          5             725      1\n",
              "79      724          4             724      1\n",
              "43      724          4            1448      2\n",
              "90      712          4            4272      6\n",
              "...                                ...    ...\n",
              "7       112          1            2576     23\n",
              "100     111          1            1776     16\n",
              "32      101          1            1515     15\n",
              "2       94           1            2350     25\n",
              "92      90           1            1620     18\n",
              "\n",
              "[401 rows x 2 columns]"
            ]
          },
          "metadata": {
            "tags": []
          },
          "execution_count": 155
        }
      ]
    },
    {
      "cell_type": "code",
      "metadata": {
        "colab": {
          "base_uri": "https://localhost:8080/",
          "height": 353
        },
        "id": "GmmP4e2iuMcA",
        "outputId": "dd872987-0bb3-484f-aae3-fc768b82267f"
      },
      "source": [
        "plt.figure(figsize=(20,5))\n",
        "sns.boxplot(filtered_in.order_amount);"
      ],
      "execution_count": null,
      "outputs": [
        {
          "output_type": "stream",
          "text": [
            "/usr/local/lib/python3.7/dist-packages/seaborn/_decorators.py:43: FutureWarning: Pass the following variable as a keyword arg: x. From version 0.12, the only valid positional argument will be `data`, and passing other arguments without an explicit keyword will result in an error or misinterpretation.\n",
            "  FutureWarning\n"
          ],
          "name": "stderr"
        },
        {
          "output_type": "display_data",
          "data": {
            "image/png": "[encoded data removed]",
            "text/plain": [
              "<Figure size 1440x360 with 1 Axes>"
            ]
          },
          "metadata": {
            "tags": [],
            "needs_background": "light"
          }
        }
      ]
    },
    {
      "cell_type": "markdown",
      "metadata": {
        "id": "UrYhIsQ4w8VR"
      },
      "source": [
        "This looks a lot more reasonable:\n",
        "- we have some outliers just outside the $700 range\n",
        "\n",
        "- our median is somewhere between $275<=>$300 which is close to the median of the unfiltered data set which was $284."
      ]
    },
    {
      "cell_type": "code",
      "metadata": {
        "colab": {
          "base_uri": "https://localhost:8080/"
        },
        "id": "kUwCB2eb_h2W",
        "outputId": "c4b63445-3882-4262-918a-ce8d4cc43ac0"
      },
      "source": [
        "filtered_in.order_amount.describe()"
      ],
      "execution_count": null,
      "outputs": [
        {
          "output_type": "execute_result",
          "data": {
            "text/plain": [
              "count    4859.000000\n",
              "mean      293.715374\n",
              "std       144.453395\n",
              "min        90.000000\n",
              "25%       162.000000\n",
              "50%       280.000000\n",
              "75%       380.000000\n",
              "max       730.000000\n",
              "Name: order_amount, dtype: float64"
            ]
          },
          "metadata": {
            "tags": []
          },
          "execution_count": 157
        }
      ]
    },
    {
      "cell_type": "markdown",
      "metadata": {
        "id": "sfxj63Rfx_3-"
      },
      "source": [
        "looking at our final summary statistics, we see some promising results.\n",
        "\n",
        "- the mean was brought down from **$3,145.13 to 293.7** a large change caused by filtering out the outliers!\n",
        "\n",
        "  - The standard deviation is also still high at approximately half the mean **$144** a great reduction from the alarming **41,282** standard deviation of the unfiltered data. \n",
        "\n",
        "- The median was brought down from **$284 to 280** which is surprisingly small! It seems my initial thought of just taking the median had some merit to it after all!\n",
        "\n",
        "  - the distribution is still slightly skewed however the mean and median are only **$10** apart!"
      ]
    },
    {
      "cell_type": "markdown",
      "metadata": {
        "id": "OplXji-40k_N"
      },
      "source": [
        "**Looking at a histogram of the filtered order_amount distribution**"
      ]
    },
    {
      "cell_type": "code",
      "metadata": {
        "colab": {
          "base_uri": "https://localhost:8080/",
          "height": 264
        },
        "id": "eNkKSa3p_l4j",
        "outputId": "b1d52bd8-9d03-4335-f6b2-83801eb73514"
      },
      "source": [
        "filtered_in.order_amount.hist(bins=20);"
      ],
      "execution_count": null,
      "outputs": [
        {
          "output_type": "display_data",
          "data": {
            "image/png": "[encoded data removed]",
            "text/plain": [
              "<Figure size 432x288 with 1 Axes>"
            ]
          },
          "metadata": {
            "tags": [],
            "needs_background": "light"
          }
        }
      ]
    },
    {
      "cell_type": "markdown",
      "metadata": {
        "id": "xLBpsem-Al44"
      },
      "source": [
        "looking at the distribution we see **three clear distributions and one not so clear distribution** of shoe order amounts:\n",
        "\n",
        "- First and most populated distribution around $150 \n",
        "\n",
        "- Second and less populated distribution around  $300 \n",
        "\n",
        "- Third and least populated distribution around $500 range \n",
        "\n",
        "- Final fat tail which could constitute its distribution around the $700 mark\n",
        "\n",
        "It is interesting to note the decrease in popularity as price increases. \n",
        "\n",
        "We must also note that these are overall order amounts and not shoe prices!\n",
        "\n",
        "**As I have created a price column we can look at that distribution as well**"
      ]
    },
    {
      "cell_type": "code",
      "metadata": {
        "colab": {
          "base_uri": "https://localhost:8080/",
          "height": 264
        },
        "id": "hjag7qBLAD61",
        "outputId": "b76e59fb-d1bd-49cb-a962-2ba7d7bc9a1a"
      },
      "source": [
        "filtered_in.price.hist(bins=20);"
      ],
      "execution_count": null,
      "outputs": [
        {
          "output_type": "display_data",
          "data": {
            "image/png": "[encoded data removed]",
            "text/plain": [
              "<Figure size 432x288 with 1 Axes>"
            ]
          },
          "metadata": {
            "tags": [],
            "needs_background": "light"
          }
        }
      ]
    },
    {
      "cell_type": "markdown",
      "metadata": {
        "id": "EXZA-39AAS-6"
      },
      "source": [
        "we see a somewhat normal distribution centered aroud 150 with outliers around 350"
      ]
    },
    {
      "cell_type": "markdown",
      "metadata": {
        "id": "vaGtGdw1W-SU"
      },
      "source": [
        "#### BONUS Hypothesis Test: Test for Statistcal Significance of the difference in means of the Old vs New (Filtered) Distributions\n",
        "\n",
        "For our T-test:\n",
        "\n",
        "$H_0$: No Significant difference between the means of the Unfiltered (OLD) vs filtered (NEW) distributions.<br>\n",
        "\n",
        "$H_a$: There is a difference between the means of the Unfiltered (OLD) vs filtered (NEW) distributions.<br>\n",
        "\n",
        "$\\alpha$ = 5% (generic setting used)\n"
      ]
    },
    {
      "cell_type": "markdown",
      "metadata": {
        "id": "IRvdApSMoRuF"
      },
      "source": [
        "##### Descriptive statistics:"
      ]
    },
    {
      "cell_type": "code",
      "metadata": {
        "id": "mkdsGwJ9aXF3",
        "colab": {
          "base_uri": "https://localhost:8080/"
        },
        "outputId": "22b11282-bb72-4ec9-8a60-25a91f2910e5"
      },
      "source": [
        "import numpy as np\n",
        "from scipy import stats # important library\n",
        "\n",
        "# As previously defined\n",
        "NEW=filtered_in.order_amount\n",
        "OLD=df.order_amount\n",
        "\n",
        "# Compute basic one number summaries\n",
        "m_mu, m_sigma = np.mean(OLD), np.std(OLD)\n",
        "print (\"mean = %G, st. dev = %g\" % (m_mu, m_sigma))\n",
        "m_N = len(OLD)\n",
        "print ('number of Out samples N=',m_N)\n",
        "\n",
        "# plot histograms to get a sense of distributions\n",
        "plt.figure(1)\n",
        "OLD.hist(bins=10, figsize=(10, 5))\n",
        "print('\\n                       Histogram of  OLD distribution')\n",
        "plt.show()\n",
        "print('Due to the skewed nature of the distribution, it would make more sense to look at the median,')\n",
        "print('\\nMedian=',OLD.median())\n",
        "print('Mean=',OLD.mean())\n",
        "\n",
        "print(\"\\n___________________________________________________________________________________________________\\n\")\n",
        "\n",
        "# Compute basic one number summaries\n",
        "f_mu, f_sigma = np.mean(NEW), np.std(NEW)\n",
        "print (\"mean = %G, st. dev = %g\" % (f_mu, f_sigma))\n",
        "f_N = len(NEW)\n",
        "print ('number of Out samples N=',f_N)\n",
        "\n",
        "# plot histograms to get a sense of distributions\n",
        "plt.figure(2)\n",
        "NEW.hist(bins=10, figsize=(10, 5))\n",
        "print('\\n                       Histogram of NEW distribution')\n",
        "plt.show()\n",
        "print('Due to the skewed nature of the distribution, it would make more sense to look at the median,')\n",
        "print('\\nMedian=',NEW.median())\n",
        "print('Mean=',NEW.mean())"
      ],
      "execution_count": null,
      "outputs": [
        {
          "output_type": "stream",
          "text": [
            "mean = 3145.13, st. dev = 41278.4\n",
            "number of Out samples N= 5000\n",
            "\n",
            "                       Histogram of  OLD distribution\n"
          ],
          "name": "stdout"
        },
        {
          "output_type": "display_data",
          "data": {
            "image/png": "[encoded data removed]",
            "text/plain": [
              "<Figure size 720x360 with 1 Axes>"
            ]
          },
          "metadata": {
            "tags": [],
            "needs_background": "light"
          }
        },
        {
          "output_type": "stream",
          "text": [
            "Due to the skewed nature of the distribution, it would make more sense to look at the median,\n",
            "\n",
            "Median= 284.0\n",
            "Mean= 3145.128\n",
            "\n",
            "___________________________________________________________________________________________________\n",
            "\n",
            "mean = 293.715, st. dev = 144.439\n",
            "number of Out samples N= 4859\n",
            "\n",
            "                       Histogram of NEW distribution\n"
          ],
          "name": "stdout"
        },
        {
          "output_type": "display_data",
          "data": {
            "image/png": "[encoded data removed]",
            "text/plain": [
              "<Figure size 720x360 with 1 Axes>"
            ]
          },
          "metadata": {
            "tags": [],
            "needs_background": "light"
          }
        },
        {
          "output_type": "stream",
          "text": [
            "Due to the skewed nature of the distribution, it would make more sense to look at the median,\n",
            "\n",
            "Median= 280.0\n",
            "Mean= 293.7153735336489\n"
          ],
          "name": "stdout"
        }
      ]
    },
    {
      "cell_type": "markdown",
      "metadata": {
        "id": "W_GZPeUQ2uPe"
      },
      "source": [
        "**Observation:**\n",
        "\n",
        "As previously mentioned both distributions are skewed therefore we can visually confirm non-normality however for further confluence a normality test will be conducted below"
      ]
    },
    {
      "cell_type": "markdown",
      "metadata": {
        "id": "vb-xQwsyoJHH"
      },
      "source": [
        "###### Normal test:"
      ]
    },
    {
      "cell_type": "markdown",
      "metadata": {
        "id": "vDEbvp6spQvl"
      },
      "source": [
        "Scipy's normaltest returns a 2-tuple of the chi-squared statistic, and the associated p-value. Given the null hypothesis that x came from a normal distribution, the p-value represents the probability that a chi-squared statistic that large (or larger) would be seen.\n",
        "\n",
        "Basically if the p-val is very small, it means it is unlikely that the data came from a normal distribution."
      ]
    },
    {
      "cell_type": "code",
      "metadata": {
        "id": "jYghfqPn352d",
        "colab": {
          "base_uri": "https://localhost:8080/"
        },
        "outputId": "1f504478-7a2b-4d57-e2b8-f443bead2ab2"
      },
      "source": [
        "#The following was partially adapted from:\n",
        "#   -https://machinelearningmastery.com/a-gentle-introduction-to-normality-tests-in-python/\n",
        "from scipy.stats import normaltest\n",
        "\n",
        "stat, p = normaltest(OLD)\n",
        "print('Statistics=%.3f, p=%.3f' % (stat, p))\n",
        "# interpret\n",
        "alpha = 0.05\n",
        "if p > alpha:\n",
        "\tprint('OLD Distribution looks Gaussian (fail to reject H0)')\n",
        "else:\n",
        "\tprint('OLD Distribution does not look Gaussian (reject H0)')\n",
        " \n",
        "stat, p = normaltest(NEW)\n",
        "print('Statistics=%.3f, p=%.3f' % (stat, p))\n",
        "# interpret\n",
        "alpha = 0.05\n",
        "if p > alpha:\n",
        "\tprint('NEW distribution looks Gaussian (fail to reject H0)')\n",
        "else:\n",
        "\tprint('NEW distribution does not look Gaussian (reject H0)')"
      ],
      "execution_count": null,
      "outputs": [
        {
          "output_type": "stream",
          "text": [
            "Statistics=10038.550, p=0.000\n",
            "OLD Distribution does not look Gaussian (reject H0)\n",
            "Statistics=357.184, p=0.000\n",
            "NEW distribution does not look Gaussian (reject H0)\n"
          ],
          "name": "stdout"
        }
      ]
    },
    {
      "cell_type": "markdown",
      "metadata": {
        "id": "-CKD4Gvl4k3h"
      },
      "source": [
        "**Clearly both distributions are not Normal therefore for the A t-test is not appropriate at this stage, we must bootstrap the data to get normal distributions**"
      ]
    },
    {
      "cell_type": "markdown",
      "metadata": {
        "id": "FmpTUAi9ogu_"
      },
      "source": [
        "##### Bootstraping"
      ]
    },
    {
      "cell_type": "code",
      "metadata": {
        "id": "YFVsnX9ixpZU",
        "colab": {
          "base_uri": "https://localhost:8080/"
        },
        "outputId": "603a576b-1df6-48e8-fcb7-ead73720b657"
      },
      "source": [
        "#The following was partially adapted from: https://machinelearningmastery.com/a-gentle-introduction-to-the-bootstrap-method\n",
        "import matplotlib.pyplot as plt\n",
        "from sklearn.utils import resample\n",
        "from math import ceil\n",
        "import math\n",
        "\n",
        "num_iters=1000\n",
        "num_samp_div=2\n",
        "\n",
        "NEW_bs = []\n",
        "OLD_bs =[]\n",
        "\n",
        "for i in range(num_iters):\n",
        "    OLD_avg= np.mean(resample(OLD, replace=True, n_samples=ceil(len(OLD)/num_samp_div), random_state=i))  #WAS THIS APPROPRIATE?\n",
        "    OLD_bs.append(OLD_avg)\n",
        "\n",
        "for j in range(num_iters):\n",
        "    NEW_avg= np.mean(resample(NEW, replace=True, n_samples=ceil(len(NEW)/num_samp_div), random_state=j))   #WAS THIS APPROPRIATE?\n",
        "    NEW_bs.append(NEW_avg)\n",
        "\n",
        "\n",
        "b=20\n",
        "plt.figure(figsize=(20, 6))\n",
        "plt.hist(NEW_bs, bins = b,label = 'NEW Distribution', alpha = 0.5)\n",
        "plt.hist(OLD_bs, bins = b,label = 'OLD Distribution', alpha = 0.5)\n",
        "plt.legend()\n",
        "plt.xlabel('order_amounts')\n",
        "plt.ylabel('Frequency')\n",
        "plt.title('bootstrapped distributions of order_amounts')\n",
        "plt.show()"
      ],
      "execution_count": null,
      "outputs": [
        {
          "output_type": "display_data",
          "data": {
            "image/png": "[encoded data removed]",
            "text/plain": [
              "<Figure size 1440x432 with 1 Axes>"
            ]
          },
          "metadata": {
            "tags": [],
            "needs_background": "light"
          }
        }
      ]
    },
    {
      "cell_type": "markdown",
      "metadata": {
        "id": "5Ac5C9ediSbD"
      },
      "source": [
        "##### Normal Test:"
      ]
    },
    {
      "cell_type": "markdown",
      "metadata": {
        "id": "h3PmqyPRo1en"
      },
      "source": [
        "Scipy's normaltest returns a 2-tuple of the chi-squared statistic, and the associated p-value. Given the null hypothesis that x came from a normal distribution, the p-value represents the probability that a chi-squared statistic that large (or larger) would be seen.\n",
        "\n",
        "Basically if the p-val is very small, it means it is unlikely that the data came from a normal distribution."
      ]
    },
    {
      "cell_type": "code",
      "metadata": {
        "id": "d2Noq-HXkJHq",
        "colab": {
          "base_uri": "https://localhost:8080/"
        },
        "outputId": "0d881d17-0a41-42d4-d2ce-05cd201704a6"
      },
      "source": [
        "# Normal Test for Sanity Check \n",
        "from scipy.stats import normaltest\n",
        "\n",
        "stat, p = normaltest(OLD_bs)\n",
        "print('Statistics=%.3f, p=%.3f' % (stat, p))\n",
        "# interpret\n",
        "alpha = 0.05\n",
        "if p > alpha:\n",
        "\tprint('Bootstrapped OLD distribution looks Gaussian (fail to reject H0)')\n",
        "else:\n",
        "\tprint('Bootstrapped OLD distribution does not look Gaussian (reject H0)')\n",
        " \n",
        "stat, p = normaltest(NEW_bs)\n",
        "print('Statistics=%.3f, p=%.3f' % (stat, p))\n",
        "# interpret\n",
        "alpha = 0.05\n",
        "if p > alpha:\n",
        "\tprint('Bootstrapped NEW distribution looks Gaussian (fail to reject H0)')\n",
        "else:\n",
        "\tprint('Bootstrapped NEW distribution does not look Gaussian (reject H0)')"
      ],
      "execution_count": null,
      "outputs": [
        {
          "output_type": "stream",
          "text": [
            "Statistics=17.664, p=0.000\n",
            "Bootstrapped OLD distribution does not look Gaussian (reject H0)\n",
            "Statistics=3.835, p=0.147\n",
            "Bootstrapped NEW distribution looks Gaussian (fail to reject H0)\n"
          ],
          "name": "stdout"
        }
      ]
    },
    {
      "cell_type": "markdown",
      "metadata": {
        "id": "3qOHnhExjRY9"
      },
      "source": [
        "We are rejecting the Null Hypothesis (that the distribution is Gaussian) for the Old unfiltered distribution, however, we can visually confirm that it looks fairly normal. Let's compare it to a distribution built using its mean and std"
      ]
    },
    {
      "cell_type": "markdown",
      "metadata": {
        "id": "JfTkV0fxgqxi"
      },
      "source": [
        "**Recreating Idealized Normal Bootstraped distributions**"
      ]
    },
    {
      "cell_type": "code",
      "metadata": {
        "id": "eXOX1HmuxpMj",
        "colab": {
          "base_uri": "https://localhost:8080/"
        },
        "outputId": "ad239f7c-a9e0-4838-8f2f-7db4958bd3b6"
      },
      "source": [
        "n_OLD_bs= len(OLD_bs)\n",
        "n_NEW_bs=len(NEW_bs)\n",
        "\n",
        "#taking the means\n",
        "mu_OLD_bs = np.mean(OLD_bs)\n",
        "mu_NEW_bs = np.mean(NEW_bs)\n",
        "sal_bs_diff= np.array(OLD_bs) - np.array(NEW_bs)\n",
        "mu_sal_bs_diff = mu_OLD_bs - mu_NEW_bs\n",
        "\n",
        "#taking the spread, note: spread of sum or difference should increase!\n",
        "var_OLD_bs = np.var(OLD_bs)    \n",
        "var_NEW_bs = np.var(NEW_bs)\n",
        "var_sal_bs_diff = var_OLD_bs+ var_NEW_bs\n",
        "\n",
        "plt.figure(1)\n",
        "mu = mu_OLD_bs\n",
        "sigma = math.sqrt(var_OLD_bs)\n",
        "x = np.linspace(mu - 3*sigma, mu + 3*sigma, 100)\n",
        "plt.hist(OLD_bs, bins = b,label = 'OLD Distribution', alpha = 0.5, density=True)\n",
        "plt.plot(x, stats.norm.pdf(x, mu, sigma))\n",
        "plt.xlabel('OLD mean order_amounts')\n",
        "plt.title('distribution of means of OLD order_amounts')\n",
        "plt.show()\n",
        "\n",
        "plt.figure(2)\n",
        "mu = mu_NEW_bs\n",
        "sigma = math.sqrt(var_NEW_bs)\n",
        "x = np.linspace(mu - 3*sigma, mu + 3*sigma, 100)\n",
        "plt.hist(NEW_bs, bins = b,label = 'NEW Distribution', alpha = 0.5, density=True)\n",
        "plt.plot(x, stats.norm.pdf(x, mu, sigma))\n",
        "plt.xlabel('NEW mean order_amounts')\n",
        "plt.title('distribution of means of NEW order_amounts')\n",
        "plt.show()\n",
        "\n",
        "plt.figure(3)\n",
        "mu = mu_sal_bs_diff\n",
        "sigma = math.sqrt(var_sal_bs_diff)\n",
        "x = np.linspace(mu - 3*sigma, mu + 3*sigma, 100)\n",
        "plt.hist(sal_bs_diff, bins = b,label = 'NEW Distribution', alpha = 0.5, density=True)\n",
        "plt.plot(x, stats.norm.pdf(x, mu, sigma))\n",
        "plt.xlabel('difference in means')\n",
        "plt.title('distribution of the difference in means of order_amounts')\n",
        "plt.show()"
      ],
      "execution_count": null,
      "outputs": [
        {
          "output_type": "display_data",
          "data": {
            "image/png": "[encoded data removed]",
            "text/plain": [
              "<Figure size 432x288 with 1 Axes>"
            ]
          },
          "metadata": {
            "tags": [],
            "needs_background": "light"
          }
        },
        {
          "output_type": "display_data",
          "data": {
            "image/png": "[encoded data removed]",
            "text/plain": [
              "<Figure size 432x288 with 1 Axes>"
            ]
          },
          "metadata": {
            "tags": [],
            "needs_background": "light"
          }
        },
        {
          "output_type": "display_data",
          "data": {
            "image/png": "[encoded data removed]",
            "text/plain": [
              "<Figure size 432x288 with 1 Axes>"
            ]
          },
          "metadata": {
            "tags": [],
            "needs_background": "light"
          }
        }
      ]
    },
    {
      "cell_type": "markdown",
      "metadata": {
        "id": "oVP8GSZnoME6"
      },
      "source": [
        "**Visually Normality Check's Out**"
      ]
    },
    {
      "cell_type": "markdown",
      "metadata": {
        "id": "8cBnkZvpvFQ8"
      },
      "source": [
        "##### Hypothesis Test"
      ]
    },
    {
      "cell_type": "markdown",
      "metadata": {
        "id": "8iB2twNzz-BJ"
      },
      "source": [
        "Thanks to bootstrapping and Central Limit Theorem, we now have normally distributed bootstrapped datasets that we can apply our favourite test statistic to.\n",
        "\n",
        "\n",
        "For our T-test:\n",
        "\n",
        "$H_0$: No Significant difference between the means of the Unfiltered (OLD) vs filtered (NEW) distributions.<br>\n",
        "\n",
        "$H_a$: There is a difference between the means of the Unfiltered (OLD) vs filtered (NEW) distributions.<br>\n",
        "\n",
        "$\\alpha$ = 5% (generic setting used)"
      ]
    },
    {
      "cell_type": "code",
      "metadata": {
        "id": "H2Dj5RvP3QWU",
        "colab": {
          "base_uri": "https://localhost:8080/"
        },
        "outputId": "f565f6c6-244d-46eb-8364-e77772307813"
      },
      "source": [
        "#import scipy.stats\n",
        "#from scipy.stats import ttest_ind\n",
        "#ttest, p_value = scipy.stats.ttest_ind(OLD_bs, NEW_bs, equal_var=False)\n",
        "#print(ttest, p_value)\n",
        "\n",
        "import scipy.stats\n",
        "from scipy.stats import ttest_ind\n",
        "\n",
        "ttest, pval= stats.ttest_ind(NEW_bs, OLD_bs, equal_var=False)\n",
        "\n",
        "if pval < 0.05:\n",
        "    print('P-value:', pval,\" < 0.05. \\nReject null hypothesis, There is a difference between the means and it is statistically significant!\",'\\nT-value=', ttest)\n",
        "else:\n",
        "    print('P-value:', pval,\" > 0.05. \\nFail to reject null hypothesis, difference between the means is not significant\",'\\nT-value=', ttest)"
      ],
      "execution_count": null,
      "outputs": [
        {
          "output_type": "stream",
          "text": [
            "P-value: 0.0  < 0.05. \n",
            "Reject null hypothesis, There is a difference between the means and it is statistically significant! \n",
            "T-value= -110.91376717210534\n"
          ],
          "name": "stdout"
        }
      ]
    },
    {
      "cell_type": "markdown",
      "metadata": {
        "id": "zK-QBPdr5jnV"
      },
      "source": [
        "Conclusion:\n",
        "\n",
        "It was evident from when plotting the bootstrapped histograms that there is a large and possibly statistically significant difference between the old and new (filtered) distributions. This was further validated by the hypothesis test."
      ]
    },
    {
      "cell_type": "markdown",
      "metadata": {
        "id": "lhQjxjxk3UcS"
      },
      "source": [
        "### c. What metric would you report for this dataset? d. What is its value?\n",
        " "
      ]
    },
    {
      "cell_type": "markdown",
      "metadata": {
        "id": "ZM0uLdMw3t4B"
      },
      "source": [
        "- If the addition of bias via the removal of points deemed outliers is acceptable for our application. Then we would go with the mean or median of our Filtered-In Dataset as derived and explained in the previous section. Because the distribution is skewed multimodal, I would take the median of **$280**\n"
      ]
    },
    {
      "cell_type": "code",
      "metadata": {
        "colab": {
          "base_uri": "https://localhost:8080/"
        },
        "id": "maPBxiuF3r4U",
        "outputId": "ee99d884-bced-4470-cb3f-a9032516f86a"
      },
      "source": [
        "filtered_in.order_amount.describe()"
      ],
      "execution_count": null,
      "outputs": [
        {
          "output_type": "execute_result",
          "data": {
            "text/plain": [
              "count    4859.000000\n",
              "mean      293.715374\n",
              "std       144.453395\n",
              "min        90.000000\n",
              "25%       162.000000\n",
              "50%       280.000000\n",
              "75%       380.000000\n",
              "max       730.000000\n",
              "Name: order_amount, dtype: float64"
            ]
          },
          "metadata": {
            "tags": []
          },
          "execution_count": 166
        }
      ]
    },
    {
      "cell_type": "markdown",
      "metadata": {
        "id": "RkS-vDol31Wy"
      },
      "source": [
        "**Otherwise:**\n",
        "- Simply use the median of the initial unaltered dataset (it is only 4$ higher than the median of the filtered data! )\n",
        "\n",
        "  - **$284**"
      ]
    },
    {
      "cell_type": "markdown",
      "metadata": {
        "id": "ZyHWXM6RwVxF"
      },
      "source": [
        "## **Question** 2: \n",
        "For this question you’ll need to use SQL. Follow this link: https://www.w3schools.com/SQL/TRYSQL.ASP?FILENAME=TRYSQL_SELECT_ALL to access the data set required for the challenge. Please use queries to answer the following questions. Paste your queries along with your final numerical answers below.\n",
        "\n",
        ">a. How many orders were shipped by Speedy Express in total?\n",
        "\n",
        ">b. What is the last name of the employee with the most orders?\n",
        "\n",
        ">c. What product was ordered the most by customers in Germany?"
      ]
    },
    {
      "cell_type": "markdown",
      "metadata": {
        "id": "NIUX3lu5C5I3"
      },
      "source": [
        "### a. How many orders were shipped by Speedy Express in total?\n",
        "\n",
        "\n",
        "```\n",
        "SELECT COUNT(*) AS number_of_orders\n",
        "FROM Orders JONEW Shippers ON Shippers.ShipperID = Orders.ShipperID\n",
        "WHERE Shippers.ShipperName = 'Speedy Express'\n",
        "```\n",
        "|\tnumber_of_orders|\n",
        "|-|\n",
        "|54|"
      ]
    },
    {
      "cell_type": "markdown",
      "metadata": {
        "id": "cTa1k4bfDMmt"
      },
      "source": [
        "### b. What is the last name of the employee with the most orders?\n",
        "\n",
        "\n",
        "\n",
        "```\n",
        "SELECT Employees.LastName, COUNT(*) AS number_of_orders\n",
        "FROM Employees JONEW Orders ON Employees.EmployeeID = Orders.EmployeeID\n",
        "GROUP BY Employees.LastName \n",
        "ORDER BY number_of_orders DESC\n",
        "LIMIT 1;\n",
        "```\n",
        "|LastName |\tnumber_of_orders|\n",
        "|-|-|\n",
        "|Peacock\t|40|"
      ]
    },
    {
      "cell_type": "markdown",
      "metadata": {
        "id": "Uq1-vKrODPLM"
      },
      "source": [
        "### c. What product was ordered the most by customers in Germany?\n",
        "\n",
        "\n",
        "```\n",
        "SELECT Products.productName, SUM(OrderDetails.Quantity) AS number_of_orders\n",
        "FROM OrderDetails JONEW Orders ON Orders.OrderID = OrderDetails.orderID\n",
        "JONEW Products ON OrderDetails.ProductID = Products.ProductID\n",
        "JONEW Customers ON Customers.CustomerID = Orders.CustomerID\n",
        "WHERE Customers.Country = 'Germany'\n",
        "GROUP BY Products.productID\n",
        "ORDER BY number_of_orders DESC\n",
        "LIMIT 1;\n",
        "```\n",
        "\n",
        "|ProductName|number_of_orders |\n",
        "|-|-|\n",
        "|Boston Crab Meat| 160|\n",
        "\n",
        "Incase this was also needed, ProductID was 40"
      ]
    }
  ]
}